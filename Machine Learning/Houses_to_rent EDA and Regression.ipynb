{
 "cells": [
  {
   "cell_type": "code",
   "execution_count": 225,
   "metadata": {},
   "outputs": [],
   "source": [
    "import pandas as pd\n",
    "import numpy as np\n",
    "import seaborn as sns\n",
    "import matplotlib.pyplot as plt\n",
    "import statsmodels.api as sm\n",
    "\n",
    "from sklearn.model_selection import train_test_split,GridSearchCV\n",
    "from sklearn.feature_selection import SelectKBest,chi2\n",
    "from sklearn.preprocessing import MinMaxScaler\n",
    "from sklearn.ensemble import RandomForestRegressor\n",
    "from sklearn.linear_model import Ridge,Lasso\n",
    "from sklearn.decomposition import PCA\n",
    "from sklearn.pipeline import Pipeline\n",
    "from sklearn.metrics import mean_absolute_error"
   ]
  },
  {
   "cell_type": "code",
   "execution_count": 74,
   "metadata": {},
   "outputs": [],
   "source": [
    "df = pd.read_csv('houses_to_rent.csv')"
   ]
  },
  {
   "cell_type": "code",
   "execution_count": 75,
   "metadata": {},
   "outputs": [
    {
     "data": {
      "text/html": [
       "<div>\n",
       "<style scoped>\n",
       "    .dataframe tbody tr th:only-of-type {\n",
       "        vertical-align: middle;\n",
       "    }\n",
       "\n",
       "    .dataframe tbody tr th {\n",
       "        vertical-align: top;\n",
       "    }\n",
       "\n",
       "    .dataframe thead th {\n",
       "        text-align: right;\n",
       "    }\n",
       "</style>\n",
       "<table border=\"1\" class=\"dataframe\">\n",
       "  <thead>\n",
       "    <tr style=\"text-align: right;\">\n",
       "      <th></th>\n",
       "      <th>Unnamed: 0</th>\n",
       "      <th>city</th>\n",
       "      <th>area</th>\n",
       "      <th>rooms</th>\n",
       "      <th>bathroom</th>\n",
       "      <th>parking spaces</th>\n",
       "      <th>floor</th>\n",
       "      <th>animal</th>\n",
       "      <th>furniture</th>\n",
       "      <th>hoa</th>\n",
       "      <th>rent amount</th>\n",
       "      <th>property tax</th>\n",
       "      <th>fire insurance</th>\n",
       "      <th>total</th>\n",
       "    </tr>\n",
       "  </thead>\n",
       "  <tbody>\n",
       "    <tr>\n",
       "      <th>0</th>\n",
       "      <td>0</td>\n",
       "      <td>1</td>\n",
       "      <td>240</td>\n",
       "      <td>3</td>\n",
       "      <td>3</td>\n",
       "      <td>4</td>\n",
       "      <td>-</td>\n",
       "      <td>acept</td>\n",
       "      <td>furnished</td>\n",
       "      <td>R$0</td>\n",
       "      <td>R$8,000</td>\n",
       "      <td>R$1,000</td>\n",
       "      <td>R$121</td>\n",
       "      <td>R$9,121</td>\n",
       "    </tr>\n",
       "    <tr>\n",
       "      <th>1</th>\n",
       "      <td>1</td>\n",
       "      <td>0</td>\n",
       "      <td>64</td>\n",
       "      <td>2</td>\n",
       "      <td>1</td>\n",
       "      <td>1</td>\n",
       "      <td>10</td>\n",
       "      <td>acept</td>\n",
       "      <td>not furnished</td>\n",
       "      <td>R$540</td>\n",
       "      <td>R$820</td>\n",
       "      <td>R$122</td>\n",
       "      <td>R$11</td>\n",
       "      <td>R$1,493</td>\n",
       "    </tr>\n",
       "    <tr>\n",
       "      <th>2</th>\n",
       "      <td>2</td>\n",
       "      <td>1</td>\n",
       "      <td>443</td>\n",
       "      <td>5</td>\n",
       "      <td>5</td>\n",
       "      <td>4</td>\n",
       "      <td>3</td>\n",
       "      <td>acept</td>\n",
       "      <td>furnished</td>\n",
       "      <td>R$4,172</td>\n",
       "      <td>R$7,000</td>\n",
       "      <td>R$1,417</td>\n",
       "      <td>R$89</td>\n",
       "      <td>R$12,680</td>\n",
       "    </tr>\n",
       "    <tr>\n",
       "      <th>3</th>\n",
       "      <td>3</td>\n",
       "      <td>1</td>\n",
       "      <td>73</td>\n",
       "      <td>2</td>\n",
       "      <td>2</td>\n",
       "      <td>1</td>\n",
       "      <td>12</td>\n",
       "      <td>acept</td>\n",
       "      <td>not furnished</td>\n",
       "      <td>R$700</td>\n",
       "      <td>R$1,250</td>\n",
       "      <td>R$150</td>\n",
       "      <td>R$16</td>\n",
       "      <td>R$2,116</td>\n",
       "    </tr>\n",
       "    <tr>\n",
       "      <th>4</th>\n",
       "      <td>4</td>\n",
       "      <td>1</td>\n",
       "      <td>19</td>\n",
       "      <td>1</td>\n",
       "      <td>1</td>\n",
       "      <td>0</td>\n",
       "      <td>-</td>\n",
       "      <td>not acept</td>\n",
       "      <td>not furnished</td>\n",
       "      <td>R$0</td>\n",
       "      <td>R$1,200</td>\n",
       "      <td>R$41</td>\n",
       "      <td>R$16</td>\n",
       "      <td>R$1,257</td>\n",
       "    </tr>\n",
       "  </tbody>\n",
       "</table>\n",
       "</div>"
      ],
      "text/plain": [
       "   Unnamed: 0  city  area  rooms  bathroom  parking spaces floor     animal  \\\n",
       "0           0     1   240      3         3               4     -      acept   \n",
       "1           1     0    64      2         1               1    10      acept   \n",
       "2           2     1   443      5         5               4     3      acept   \n",
       "3           3     1    73      2         2               1    12      acept   \n",
       "4           4     1    19      1         1               0     -  not acept   \n",
       "\n",
       "       furniture      hoa rent amount property tax fire insurance     total  \n",
       "0      furnished      R$0     R$8,000      R$1,000          R$121   R$9,121  \n",
       "1  not furnished    R$540       R$820        R$122           R$11   R$1,493  \n",
       "2      furnished  R$4,172     R$7,000      R$1,417           R$89  R$12,680  \n",
       "3  not furnished    R$700     R$1,250        R$150           R$16   R$2,116  \n",
       "4  not furnished      R$0     R$1,200         R$41           R$16   R$1,257  "
      ]
     },
     "execution_count": 75,
     "metadata": {},
     "output_type": "execute_result"
    }
   ],
   "source": [
    "df.head()"
   ]
  },
  {
   "cell_type": "code",
   "execution_count": 76,
   "metadata": {},
   "outputs": [],
   "source": [
    "df = df.drop('Unnamed: 0',axis=1)"
   ]
  },
  {
   "cell_type": "code",
   "execution_count": 77,
   "metadata": {},
   "outputs": [
    {
     "data": {
      "text/html": [
       "<div>\n",
       "<style scoped>\n",
       "    .dataframe tbody tr th:only-of-type {\n",
       "        vertical-align: middle;\n",
       "    }\n",
       "\n",
       "    .dataframe tbody tr th {\n",
       "        vertical-align: top;\n",
       "    }\n",
       "\n",
       "    .dataframe thead th {\n",
       "        text-align: right;\n",
       "    }\n",
       "</style>\n",
       "<table border=\"1\" class=\"dataframe\">\n",
       "  <thead>\n",
       "    <tr style=\"text-align: right;\">\n",
       "      <th></th>\n",
       "      <th>city</th>\n",
       "      <th>area</th>\n",
       "      <th>rooms</th>\n",
       "      <th>bathroom</th>\n",
       "      <th>parking spaces</th>\n",
       "      <th>floor</th>\n",
       "      <th>animal</th>\n",
       "      <th>furniture</th>\n",
       "      <th>hoa</th>\n",
       "      <th>rent amount</th>\n",
       "      <th>property tax</th>\n",
       "      <th>fire insurance</th>\n",
       "      <th>total</th>\n",
       "    </tr>\n",
       "  </thead>\n",
       "  <tbody>\n",
       "    <tr>\n",
       "      <th>0</th>\n",
       "      <td>1</td>\n",
       "      <td>240</td>\n",
       "      <td>3</td>\n",
       "      <td>3</td>\n",
       "      <td>4</td>\n",
       "      <td>-</td>\n",
       "      <td>acept</td>\n",
       "      <td>furnished</td>\n",
       "      <td>R$0</td>\n",
       "      <td>R$8,000</td>\n",
       "      <td>R$1,000</td>\n",
       "      <td>R$121</td>\n",
       "      <td>R$9,121</td>\n",
       "    </tr>\n",
       "    <tr>\n",
       "      <th>1</th>\n",
       "      <td>0</td>\n",
       "      <td>64</td>\n",
       "      <td>2</td>\n",
       "      <td>1</td>\n",
       "      <td>1</td>\n",
       "      <td>10</td>\n",
       "      <td>acept</td>\n",
       "      <td>not furnished</td>\n",
       "      <td>R$540</td>\n",
       "      <td>R$820</td>\n",
       "      <td>R$122</td>\n",
       "      <td>R$11</td>\n",
       "      <td>R$1,493</td>\n",
       "    </tr>\n",
       "    <tr>\n",
       "      <th>2</th>\n",
       "      <td>1</td>\n",
       "      <td>443</td>\n",
       "      <td>5</td>\n",
       "      <td>5</td>\n",
       "      <td>4</td>\n",
       "      <td>3</td>\n",
       "      <td>acept</td>\n",
       "      <td>furnished</td>\n",
       "      <td>R$4,172</td>\n",
       "      <td>R$7,000</td>\n",
       "      <td>R$1,417</td>\n",
       "      <td>R$89</td>\n",
       "      <td>R$12,680</td>\n",
       "    </tr>\n",
       "    <tr>\n",
       "      <th>3</th>\n",
       "      <td>1</td>\n",
       "      <td>73</td>\n",
       "      <td>2</td>\n",
       "      <td>2</td>\n",
       "      <td>1</td>\n",
       "      <td>12</td>\n",
       "      <td>acept</td>\n",
       "      <td>not furnished</td>\n",
       "      <td>R$700</td>\n",
       "      <td>R$1,250</td>\n",
       "      <td>R$150</td>\n",
       "      <td>R$16</td>\n",
       "      <td>R$2,116</td>\n",
       "    </tr>\n",
       "    <tr>\n",
       "      <th>4</th>\n",
       "      <td>1</td>\n",
       "      <td>19</td>\n",
       "      <td>1</td>\n",
       "      <td>1</td>\n",
       "      <td>0</td>\n",
       "      <td>-</td>\n",
       "      <td>not acept</td>\n",
       "      <td>not furnished</td>\n",
       "      <td>R$0</td>\n",
       "      <td>R$1,200</td>\n",
       "      <td>R$41</td>\n",
       "      <td>R$16</td>\n",
       "      <td>R$1,257</td>\n",
       "    </tr>\n",
       "  </tbody>\n",
       "</table>\n",
       "</div>"
      ],
      "text/plain": [
       "   city  area  rooms  bathroom  parking spaces floor     animal  \\\n",
       "0     1   240      3         3               4     -      acept   \n",
       "1     0    64      2         1               1    10      acept   \n",
       "2     1   443      5         5               4     3      acept   \n",
       "3     1    73      2         2               1    12      acept   \n",
       "4     1    19      1         1               0     -  not acept   \n",
       "\n",
       "       furniture      hoa rent amount property tax fire insurance     total  \n",
       "0      furnished      R$0     R$8,000      R$1,000          R$121   R$9,121  \n",
       "1  not furnished    R$540       R$820        R$122           R$11   R$1,493  \n",
       "2      furnished  R$4,172     R$7,000      R$1,417           R$89  R$12,680  \n",
       "3  not furnished    R$700     R$1,250        R$150           R$16   R$2,116  \n",
       "4  not furnished      R$0     R$1,200         R$41           R$16   R$1,257  "
      ]
     },
     "execution_count": 77,
     "metadata": {},
     "output_type": "execute_result"
    }
   ],
   "source": [
    "df.head()"
   ]
  },
  {
   "cell_type": "code",
   "execution_count": 78,
   "metadata": {},
   "outputs": [
    {
     "name": "stdout",
     "output_type": "stream",
     "text": [
      "<class 'pandas.core.frame.DataFrame'>\n",
      "RangeIndex: 6080 entries, 0 to 6079\n",
      "Data columns (total 13 columns):\n",
      " #   Column          Non-Null Count  Dtype \n",
      "---  ------          --------------  ----- \n",
      " 0   city            6080 non-null   int64 \n",
      " 1   area            6080 non-null   int64 \n",
      " 2   rooms           6080 non-null   int64 \n",
      " 3   bathroom        6080 non-null   int64 \n",
      " 4   parking spaces  6080 non-null   int64 \n",
      " 5   floor           6080 non-null   object\n",
      " 6   animal          6080 non-null   object\n",
      " 7   furniture       6080 non-null   object\n",
      " 8   hoa             6080 non-null   object\n",
      " 9   rent amount     6080 non-null   object\n",
      " 10  property tax    6080 non-null   object\n",
      " 11  fire insurance  6080 non-null   object\n",
      " 12  total           6080 non-null   object\n",
      "dtypes: int64(5), object(8)\n",
      "memory usage: 617.6+ KB\n"
     ]
    }
   ],
   "source": [
    "df.info()"
   ]
  },
  {
   "cell_type": "code",
   "execution_count": 79,
   "metadata": {},
   "outputs": [
    {
     "data": {
      "text/plain": [
       "-     1555\n",
       "1      573\n",
       "3      401\n",
       "2      379\n",
       "4      319\n",
       "5      314\n",
       "6      306\n",
       "8      291\n",
       "7      287\n",
       "9      224\n",
       "10     213\n",
       "11     193\n",
       "12     179\n",
       "13     143\n",
       "14     141\n",
       "15     107\n",
       "16      89\n",
       "17      73\n",
       "18      69\n",
       "19      47\n",
       "20      36\n",
       "21      30\n",
       "23      26\n",
       "25      23\n",
       "22      21\n",
       "24      11\n",
       "27       7\n",
       "28       6\n",
       "26       6\n",
       "29       4\n",
       "51       1\n",
       "31       1\n",
       "99       1\n",
       "32       1\n",
       "35       1\n",
       "68       1\n",
       "85       1\n",
       "Name: floor, dtype: int64"
      ]
     },
     "execution_count": 79,
     "metadata": {},
     "output_type": "execute_result"
    }
   ],
   "source": [
    "df['floor'].value_counts()"
   ]
  },
  {
   "cell_type": "code",
   "execution_count": 80,
   "metadata": {},
   "outputs": [],
   "source": [
    "df['floor'] = df['floor'].replace('-',np.nan)"
   ]
  },
  {
   "cell_type": "code",
   "execution_count": 86,
   "metadata": {},
   "outputs": [],
   "source": [
    "df['floor'] = pd.to_numeric(df['floor'])\n",
    "\n",
    "df['floor'] = df['floor'].fillna(df['floor'].mean())"
   ]
  },
  {
   "cell_type": "code",
   "execution_count": 87,
   "metadata": {},
   "outputs": [
    {
     "name": "stdout",
     "output_type": "stream",
     "text": [
      "<class 'pandas.core.frame.DataFrame'>\n",
      "RangeIndex: 6080 entries, 0 to 6079\n",
      "Data columns (total 13 columns):\n",
      " #   Column          Non-Null Count  Dtype  \n",
      "---  ------          --------------  -----  \n",
      " 0   city            6080 non-null   int64  \n",
      " 1   area            6080 non-null   int64  \n",
      " 2   rooms           6080 non-null   int64  \n",
      " 3   bathroom        6080 non-null   int64  \n",
      " 4   parking spaces  6080 non-null   int64  \n",
      " 5   floor           6080 non-null   float64\n",
      " 6   animal          6080 non-null   object \n",
      " 7   furniture       6080 non-null   object \n",
      " 8   hoa             6080 non-null   object \n",
      " 9   rent amount     6080 non-null   object \n",
      " 10  property tax    6080 non-null   object \n",
      " 11  fire insurance  6080 non-null   object \n",
      " 12  total           6080 non-null   object \n",
      "dtypes: float64(1), int64(5), object(7)\n",
      "memory usage: 617.6+ KB\n"
     ]
    }
   ],
   "source": [
    "df.info()"
   ]
  },
  {
   "cell_type": "code",
   "execution_count": 88,
   "metadata": {},
   "outputs": [
    {
     "data": {
      "text/plain": [
       "Index(['city', 'area', 'rooms', 'bathroom', 'parking spaces', 'floor',\n",
       "       'animal', 'furniture', 'hoa', 'rent amount', 'property tax',\n",
       "       'fire insurance', 'total'],\n",
       "      dtype='object')"
      ]
     },
     "execution_count": 88,
     "metadata": {},
     "output_type": "execute_result"
    }
   ],
   "source": [
    "df.columns"
   ]
  },
  {
   "cell_type": "code",
   "execution_count": 89,
   "metadata": {},
   "outputs": [],
   "source": [
    "# Remove R$ \n",
    "df[[ 'hoa', 'rent amount', 'property tax',\n",
    "       'fire insurance', 'total']] = df[[ 'hoa', 'rent amount', 'property tax',\n",
    "       'fire insurance', 'total']].apply(lambda x:x.str[2:])"
   ]
  },
  {
   "cell_type": "code",
   "execution_count": 90,
   "metadata": {},
   "outputs": [],
   "source": [
    "def remove(string):\n",
    "    new= \"\"\n",
    "    for i in string:\n",
    "        if i.isdigit():\n",
    "            new = new + i\n",
    "    return new"
   ]
  },
  {
   "cell_type": "code",
   "execution_count": 91,
   "metadata": {},
   "outputs": [],
   "source": [
    "df['hoa'] = pd.to_numeric(df['hoa'].apply(remove))\n",
    "df['rent amount'] = pd.to_numeric(df['rent amount'].apply(remove))\n",
    "df['property tax'] = pd.to_numeric(df['property tax'].apply(remove))\n",
    "df['fire insurance'] = pd.to_numeric(df['fire insurance'].apply(remove))\n",
    "df['total'] = pd.to_numeric(df['total'].apply(remove))"
   ]
  },
  {
   "cell_type": "code",
   "execution_count": 92,
   "metadata": {},
   "outputs": [
    {
     "name": "stdout",
     "output_type": "stream",
     "text": [
      "<class 'pandas.core.frame.DataFrame'>\n",
      "RangeIndex: 6080 entries, 0 to 6079\n",
      "Data columns (total 13 columns):\n",
      " #   Column          Non-Null Count  Dtype  \n",
      "---  ------          --------------  -----  \n",
      " 0   city            6080 non-null   int64  \n",
      " 1   area            6080 non-null   int64  \n",
      " 2   rooms           6080 non-null   int64  \n",
      " 3   bathroom        6080 non-null   int64  \n",
      " 4   parking spaces  6080 non-null   int64  \n",
      " 5   floor           6080 non-null   float64\n",
      " 6   animal          6080 non-null   object \n",
      " 7   furniture       6080 non-null   object \n",
      " 8   hoa             5878 non-null   float64\n",
      " 9   rent amount     6080 non-null   int64  \n",
      " 10  property tax    6053 non-null   float64\n",
      " 11  fire insurance  6080 non-null   int64  \n",
      " 12  total           6080 non-null   int64  \n",
      "dtypes: float64(3), int64(8), object(2)\n",
      "memory usage: 617.6+ KB\n"
     ]
    }
   ],
   "source": [
    "df.info()"
   ]
  },
  {
   "cell_type": "code",
   "execution_count": 94,
   "metadata": {},
   "outputs": [],
   "source": [
    "df['hoa'] = df['hoa'].fillna(df['hoa'].mean())\n",
    "df['property tax'] = df['property tax'].fillna(df['property tax'].mean())"
   ]
  },
  {
   "cell_type": "code",
   "execution_count": 95,
   "metadata": {},
   "outputs": [
    {
     "name": "stdout",
     "output_type": "stream",
     "text": [
      "<class 'pandas.core.frame.DataFrame'>\n",
      "RangeIndex: 6080 entries, 0 to 6079\n",
      "Data columns (total 13 columns):\n",
      " #   Column          Non-Null Count  Dtype  \n",
      "---  ------          --------------  -----  \n",
      " 0   city            6080 non-null   int64  \n",
      " 1   area            6080 non-null   int64  \n",
      " 2   rooms           6080 non-null   int64  \n",
      " 3   bathroom        6080 non-null   int64  \n",
      " 4   parking spaces  6080 non-null   int64  \n",
      " 5   floor           6080 non-null   float64\n",
      " 6   animal          6080 non-null   object \n",
      " 7   furniture       6080 non-null   object \n",
      " 8   hoa             6080 non-null   float64\n",
      " 9   rent amount     6080 non-null   int64  \n",
      " 10  property tax    6080 non-null   float64\n",
      " 11  fire insurance  6080 non-null   int64  \n",
      " 12  total           6080 non-null   int64  \n",
      "dtypes: float64(3), int64(8), object(2)\n",
      "memory usage: 617.6+ KB\n"
     ]
    }
   ],
   "source": [
    "df.info()"
   ]
  },
  {
   "cell_type": "code",
   "execution_count": 110,
   "metadata": {},
   "outputs": [],
   "source": [
    "df['floor'] = df['floor'].astype('int')"
   ]
  },
  {
   "cell_type": "code",
   "execution_count": 111,
   "metadata": {},
   "outputs": [
    {
     "name": "stdout",
     "output_type": "stream",
     "text": [
      "total             1.000000\n",
      "property tax      0.741658\n",
      "hoa               0.545735\n",
      "rent amount       0.542891\n",
      "fire insurance    0.524382\n",
      "bathroom          0.386854\n",
      "parking spaces    0.313975\n",
      "rooms             0.310166\n",
      "area              0.141064\n",
      "city              0.121799\n",
      "floor             0.093928\n",
      "Name: total, dtype: float64\n"
     ]
    },
    {
     "data": {
      "image/png": "[encoded data removed]",
      "text/plain": [
       "<Figure size 720x720 with 2 Axes>"
      ]
     },
     "metadata": {
      "needs_background": "light"
     },
     "output_type": "display_data"
    }
   ],
   "source": [
    "plt.figure(figsize=(10,10))\n",
    "sns.heatmap(df.corr(),annot=True)\n",
    "print(df.corr()['total'].sort_values(ascending=False))"
   ]
  },
  {
   "cell_type": "code",
   "execution_count": 112,
   "metadata": {},
   "outputs": [
    {
     "data": {
      "text/plain": [
       "Index(['city', 'area', 'rooms', 'bathroom', 'parking spaces', 'floor',\n",
       "       'animal', 'furniture', 'hoa', 'rent amount', 'property tax',\n",
       "       'fire insurance', 'total'],\n",
       "      dtype='object')"
      ]
     },
     "execution_count": 112,
     "metadata": {},
     "output_type": "execute_result"
    }
   ],
   "source": [
    "df.columns"
   ]
  },
  {
   "cell_type": "code",
   "execution_count": 113,
   "metadata": {},
   "outputs": [
    {
     "data": {
      "text/plain": [
       "<matplotlib.axes._subplots.AxesSubplot at 0x1fd2f6d9b08>"
      ]
     },
     "execution_count": 113,
     "metadata": {},
     "output_type": "execute_result"
    },
    {
     "data": {
      "image/png": "[encoded data removed]",
      "text/plain": [
       "<Figure size 432x288 with 1 Axes>"
      ]
     },
     "metadata": {
      "needs_background": "light"
     },
     "output_type": "display_data"
    }
   ],
   "source": [
    "sns.scatterplot(x='rooms',y='bathroom',data=df,hue='rent amount',alpha=0.5)"
   ]
  },
  {
   "cell_type": "code",
   "execution_count": 114,
   "metadata": {},
   "outputs": [
    {
     "data": {
      "text/html": [
       "<div>\n",
       "<style scoped>\n",
       "    .dataframe tbody tr th:only-of-type {\n",
       "        vertical-align: middle;\n",
       "    }\n",
       "\n",
       "    .dataframe tbody tr th {\n",
       "        vertical-align: top;\n",
       "    }\n",
       "\n",
       "    .dataframe thead th {\n",
       "        text-align: right;\n",
       "    }\n",
       "</style>\n",
       "<table border=\"1\" class=\"dataframe\">\n",
       "  <thead>\n",
       "    <tr style=\"text-align: right;\">\n",
       "      <th></th>\n",
       "      <th>city</th>\n",
       "      <th>area</th>\n",
       "      <th>rooms</th>\n",
       "      <th>bathroom</th>\n",
       "      <th>parking spaces</th>\n",
       "      <th>floor</th>\n",
       "      <th>animal</th>\n",
       "      <th>furniture</th>\n",
       "      <th>hoa</th>\n",
       "      <th>rent amount</th>\n",
       "      <th>property tax</th>\n",
       "      <th>fire insurance</th>\n",
       "      <th>total</th>\n",
       "    </tr>\n",
       "  </thead>\n",
       "  <tbody>\n",
       "    <tr>\n",
       "      <th>0</th>\n",
       "      <td>1</td>\n",
       "      <td>240</td>\n",
       "      <td>3</td>\n",
       "      <td>3</td>\n",
       "      <td>4</td>\n",
       "      <td>7</td>\n",
       "      <td>acept</td>\n",
       "      <td>furnished</td>\n",
       "      <td>0.0</td>\n",
       "      <td>8000</td>\n",
       "      <td>1000.0</td>\n",
       "      <td>121</td>\n",
       "      <td>9121</td>\n",
       "    </tr>\n",
       "    <tr>\n",
       "      <th>1</th>\n",
       "      <td>0</td>\n",
       "      <td>64</td>\n",
       "      <td>2</td>\n",
       "      <td>1</td>\n",
       "      <td>1</td>\n",
       "      <td>10</td>\n",
       "      <td>acept</td>\n",
       "      <td>not furnished</td>\n",
       "      <td>540.0</td>\n",
       "      <td>820</td>\n",
       "      <td>122.0</td>\n",
       "      <td>11</td>\n",
       "      <td>1493</td>\n",
       "    </tr>\n",
       "    <tr>\n",
       "      <th>2</th>\n",
       "      <td>1</td>\n",
       "      <td>443</td>\n",
       "      <td>5</td>\n",
       "      <td>5</td>\n",
       "      <td>4</td>\n",
       "      <td>3</td>\n",
       "      <td>acept</td>\n",
       "      <td>furnished</td>\n",
       "      <td>4172.0</td>\n",
       "      <td>7000</td>\n",
       "      <td>1417.0</td>\n",
       "      <td>89</td>\n",
       "      <td>12680</td>\n",
       "    </tr>\n",
       "    <tr>\n",
       "      <th>3</th>\n",
       "      <td>1</td>\n",
       "      <td>73</td>\n",
       "      <td>2</td>\n",
       "      <td>2</td>\n",
       "      <td>1</td>\n",
       "      <td>12</td>\n",
       "      <td>acept</td>\n",
       "      <td>not furnished</td>\n",
       "      <td>700.0</td>\n",
       "      <td>1250</td>\n",
       "      <td>150.0</td>\n",
       "      <td>16</td>\n",
       "      <td>2116</td>\n",
       "    </tr>\n",
       "    <tr>\n",
       "      <th>4</th>\n",
       "      <td>1</td>\n",
       "      <td>19</td>\n",
       "      <td>1</td>\n",
       "      <td>1</td>\n",
       "      <td>0</td>\n",
       "      <td>7</td>\n",
       "      <td>not acept</td>\n",
       "      <td>not furnished</td>\n",
       "      <td>0.0</td>\n",
       "      <td>1200</td>\n",
       "      <td>41.0</td>\n",
       "      <td>16</td>\n",
       "      <td>1257</td>\n",
       "    </tr>\n",
       "  </tbody>\n",
       "</table>\n",
       "</div>"
      ],
      "text/plain": [
       "   city  area  rooms  bathroom  parking spaces  floor     animal  \\\n",
       "0     1   240      3         3               4      7      acept   \n",
       "1     0    64      2         1               1     10      acept   \n",
       "2     1   443      5         5               4      3      acept   \n",
       "3     1    73      2         2               1     12      acept   \n",
       "4     1    19      1         1               0      7  not acept   \n",
       "\n",
       "       furniture     hoa  rent amount  property tax  fire insurance  total  \n",
       "0      furnished     0.0         8000        1000.0             121   9121  \n",
       "1  not furnished   540.0          820         122.0              11   1493  \n",
       "2      furnished  4172.0         7000        1417.0              89  12680  \n",
       "3  not furnished   700.0         1250         150.0              16   2116  \n",
       "4  not furnished     0.0         1200          41.0              16   1257  "
      ]
     },
     "execution_count": 114,
     "metadata": {},
     "output_type": "execute_result"
    }
   ],
   "source": [
    "df.head()"
   ]
  },
  {
   "cell_type": "code",
   "execution_count": 121,
   "metadata": {},
   "outputs": [
    {
     "data": {
      "text/plain": [
       "<seaborn.axisgrid.FacetGrid at 0x1fd30f83e48>"
      ]
     },
     "execution_count": 121,
     "metadata": {},
     "output_type": "execute_result"
    },
    {
     "data": {
      "image/png": "[encoded data removed]",
      "text/plain": [
       "<Figure size 444.375x360 with 1 Axes>"
      ]
     },
     "metadata": {
      "needs_background": "light"
     },
     "output_type": "display_data"
    }
   ],
   "source": [
    "sns.relplot(x='rooms',y='rent amount',data=df,hue='bathroom')"
   ]
  },
  {
   "cell_type": "code",
   "execution_count": 116,
   "metadata": {},
   "outputs": [
    {
     "data": {
      "text/plain": [
       "<matplotlib.axes._subplots.AxesSubplot at 0x1fd2fccf448>"
      ]
     },
     "execution_count": 116,
     "metadata": {},
     "output_type": "execute_result"
    },
    {
     "data": {
      "image/png": "[encoded data removed]",
      "text/plain": [
       "<Figure size 432x288 with 1 Axes>"
      ]
     },
     "metadata": {
      "needs_background": "light"
     },
     "output_type": "display_data"
    }
   ],
   "source": [
    "sns.regplot(x='bathroom',y='rent amount',data=df)"
   ]
  },
  {
   "cell_type": "code",
   "execution_count": 117,
   "metadata": {},
   "outputs": [
    {
     "data": {
      "text/plain": [
       "<matplotlib.axes._subplots.AxesSubplot at 0x1fd2fcccfc8>"
      ]
     },
     "execution_count": 117,
     "metadata": {},
     "output_type": "execute_result"
    },
    {
     "data": {
      "image/png": "[encoded data removed]",
      "text/plain": [
       "<Figure size 432x288 with 1 Axes>"
      ]
     },
     "metadata": {
      "needs_background": "light"
     },
     "output_type": "display_data"
    }
   ],
   "source": [
    "sns.regplot(x='floor',y='rent amount',data=df)"
   ]
  },
  {
   "cell_type": "code",
   "execution_count": 119,
   "metadata": {},
   "outputs": [
    {
     "data": {
      "text/plain": [
       "<matplotlib.axes._subplots.AxesSubplot at 0x1fd2ff2a648>"
      ]
     },
     "execution_count": 119,
     "metadata": {},
     "output_type": "execute_result"
    },
    {
     "data": {
      "image/png": "[encoded data removed]",
      "text/plain": [
       "<Figure size 432x288 with 1 Axes>"
      ]
     },
     "metadata": {
      "needs_background": "light"
     },
     "output_type": "display_data"
    }
   ],
   "source": [
    "sns.regplot(x='property tax',y='rent amount',data=df)"
   ]
  },
  {
   "cell_type": "code",
   "execution_count": 126,
   "metadata": {},
   "outputs": [
    {
     "data": {
      "text/plain": [
       "Text(0.5, 1, 'Hoa-Total Relationship')"
      ]
     },
     "execution_count": 126,
     "metadata": {},
     "output_type": "execute_result"
    },
    {
     "data": {
      "image/png": "[encoded data removed]",
      "text/plain": [
       "<Figure size 552.625x504 with 1 Axes>"
      ]
     },
     "metadata": {
      "needs_background": "light"
     },
     "output_type": "display_data"
    }
   ],
   "source": [
    "g = sns.FacetGrid(df,hue='rooms',size=7)\n",
    "g.map(plt.scatter,'hoa','total',alpha=0.7)\n",
    "g.add_legend()\n",
    "plt.title('Hoa-Total Relationship')"
   ]
  },
  {
   "cell_type": "code",
   "execution_count": 132,
   "metadata": {},
   "outputs": [
    {
     "data": {
      "text/plain": [
       "Text(0.5, 1, 'Insurance-Total Relationship')"
      ]
     },
     "execution_count": 132,
     "metadata": {},
     "output_type": "execute_result"
    },
    {
     "data": {
      "image/png": "[encoded data removed]",
      "text/plain": [
       "<Figure size 606.875x504 with 1 Axes>"
      ]
     },
     "metadata": {
      "needs_background": "light"
     },
     "output_type": "display_data"
    }
   ],
   "source": [
    "g = sns.FacetGrid(df,hue='furniture',palette='Set1', size=7,height=5,hue_kws={'marker':['^',\"*\"]})\n",
    "g.map(plt.scatter,'fire insurance','total',alpha=0.7)\n",
    "g.add_legend()\n",
    "plt.title('Insurance-Total Relationship')"
   ]
  },
  {
   "cell_type": "code",
   "execution_count": 135,
   "metadata": {},
   "outputs": [
    {
     "data": {
      "text/plain": [
       "<matplotlib.axes._subplots.AxesSubplot at 0x1fd359f9208>"
      ]
     },
     "execution_count": 135,
     "metadata": {},
     "output_type": "execute_result"
    },
    {
     "data": {
      "image/png": "[encoded data removed]",
      "text/plain": [
       "<Figure size 432x288 with 1 Axes>"
      ]
     },
     "metadata": {
      "needs_background": "light"
     },
     "output_type": "display_data"
    }
   ],
   "source": [
    "sns.pointplot(x='rooms',y='rent amount',data=df,hue='animal')"
   ]
  },
  {
   "cell_type": "code",
   "execution_count": 137,
   "metadata": {},
   "outputs": [],
   "source": [
    "df = pd.get_dummies(df)"
   ]
  },
  {
   "cell_type": "code",
   "execution_count": 143,
   "metadata": {},
   "outputs": [
    {
     "data": {
      "text/html": [
       "<div>\n",
       "<style scoped>\n",
       "    .dataframe tbody tr th:only-of-type {\n",
       "        vertical-align: middle;\n",
       "    }\n",
       "\n",
       "    .dataframe tbody tr th {\n",
       "        vertical-align: top;\n",
       "    }\n",
       "\n",
       "    .dataframe thead th {\n",
       "        text-align: right;\n",
       "    }\n",
       "</style>\n",
       "<table border=\"1\" class=\"dataframe\">\n",
       "  <thead>\n",
       "    <tr style=\"text-align: right;\">\n",
       "      <th></th>\n",
       "      <th>city</th>\n",
       "      <th>area</th>\n",
       "      <th>rooms</th>\n",
       "      <th>bathroom</th>\n",
       "      <th>parking spaces</th>\n",
       "      <th>floor</th>\n",
       "      <th>hoa</th>\n",
       "      <th>rent amount</th>\n",
       "      <th>property tax</th>\n",
       "      <th>fire insurance</th>\n",
       "      <th>total</th>\n",
       "      <th>animal_acept</th>\n",
       "      <th>animal_not acept</th>\n",
       "      <th>furniture_furnished</th>\n",
       "      <th>furniture_not furnished</th>\n",
       "    </tr>\n",
       "  </thead>\n",
       "  <tbody>\n",
       "    <tr>\n",
       "      <th>0</th>\n",
       "      <td>1</td>\n",
       "      <td>240</td>\n",
       "      <td>3</td>\n",
       "      <td>3</td>\n",
       "      <td>4</td>\n",
       "      <td>7</td>\n",
       "      <td>0.0</td>\n",
       "      <td>8000</td>\n",
       "      <td>1000.0</td>\n",
       "      <td>121</td>\n",
       "      <td>9121</td>\n",
       "      <td>1</td>\n",
       "      <td>0</td>\n",
       "      <td>1</td>\n",
       "      <td>0</td>\n",
       "    </tr>\n",
       "    <tr>\n",
       "      <th>1</th>\n",
       "      <td>0</td>\n",
       "      <td>64</td>\n",
       "      <td>2</td>\n",
       "      <td>1</td>\n",
       "      <td>1</td>\n",
       "      <td>10</td>\n",
       "      <td>540.0</td>\n",
       "      <td>820</td>\n",
       "      <td>122.0</td>\n",
       "      <td>11</td>\n",
       "      <td>1493</td>\n",
       "      <td>1</td>\n",
       "      <td>0</td>\n",
       "      <td>0</td>\n",
       "      <td>1</td>\n",
       "    </tr>\n",
       "    <tr>\n",
       "      <th>2</th>\n",
       "      <td>1</td>\n",
       "      <td>443</td>\n",
       "      <td>5</td>\n",
       "      <td>5</td>\n",
       "      <td>4</td>\n",
       "      <td>3</td>\n",
       "      <td>4172.0</td>\n",
       "      <td>7000</td>\n",
       "      <td>1417.0</td>\n",
       "      <td>89</td>\n",
       "      <td>12680</td>\n",
       "      <td>1</td>\n",
       "      <td>0</td>\n",
       "      <td>1</td>\n",
       "      <td>0</td>\n",
       "    </tr>\n",
       "    <tr>\n",
       "      <th>3</th>\n",
       "      <td>1</td>\n",
       "      <td>73</td>\n",
       "      <td>2</td>\n",
       "      <td>2</td>\n",
       "      <td>1</td>\n",
       "      <td>12</td>\n",
       "      <td>700.0</td>\n",
       "      <td>1250</td>\n",
       "      <td>150.0</td>\n",
       "      <td>16</td>\n",
       "      <td>2116</td>\n",
       "      <td>1</td>\n",
       "      <td>0</td>\n",
       "      <td>0</td>\n",
       "      <td>1</td>\n",
       "    </tr>\n",
       "    <tr>\n",
       "      <th>4</th>\n",
       "      <td>1</td>\n",
       "      <td>19</td>\n",
       "      <td>1</td>\n",
       "      <td>1</td>\n",
       "      <td>0</td>\n",
       "      <td>7</td>\n",
       "      <td>0.0</td>\n",
       "      <td>1200</td>\n",
       "      <td>41.0</td>\n",
       "      <td>16</td>\n",
       "      <td>1257</td>\n",
       "      <td>0</td>\n",
       "      <td>1</td>\n",
       "      <td>0</td>\n",
       "      <td>1</td>\n",
       "    </tr>\n",
       "  </tbody>\n",
       "</table>\n",
       "</div>"
      ],
      "text/plain": [
       "   city  area  rooms  bathroom  parking spaces  floor     hoa  rent amount  \\\n",
       "0     1   240      3         3               4      7     0.0         8000   \n",
       "1     0    64      2         1               1     10   540.0          820   \n",
       "2     1   443      5         5               4      3  4172.0         7000   \n",
       "3     1    73      2         2               1     12   700.0         1250   \n",
       "4     1    19      1         1               0      7     0.0         1200   \n",
       "\n",
       "   property tax  fire insurance  total  animal_acept  animal_not acept  \\\n",
       "0        1000.0             121   9121             1                 0   \n",
       "1         122.0              11   1493             1                 0   \n",
       "2        1417.0              89  12680             1                 0   \n",
       "3         150.0              16   2116             1                 0   \n",
       "4          41.0              16   1257             0                 1   \n",
       "\n",
       "   furniture_furnished  furniture_not furnished  \n",
       "0                    1                        0  \n",
       "1                    0                        1  \n",
       "2                    1                        0  \n",
       "3                    0                        1  \n",
       "4                    0                        1  "
      ]
     },
     "execution_count": 143,
     "metadata": {},
     "output_type": "execute_result"
    }
   ],
   "source": [
    "df.head()"
   ]
  },
  {
   "cell_type": "code",
   "execution_count": 146,
   "metadata": {},
   "outputs": [],
   "source": [
    "df['city'] = df['city'].map({1:'yes',0:'no'})"
   ]
  },
  {
   "cell_type": "code",
   "execution_count": 147,
   "metadata": {},
   "outputs": [
    {
     "data": {
      "text/html": [
       "<div>\n",
       "<style scoped>\n",
       "    .dataframe tbody tr th:only-of-type {\n",
       "        vertical-align: middle;\n",
       "    }\n",
       "\n",
       "    .dataframe tbody tr th {\n",
       "        vertical-align: top;\n",
       "    }\n",
       "\n",
       "    .dataframe thead th {\n",
       "        text-align: right;\n",
       "    }\n",
       "</style>\n",
       "<table border=\"1\" class=\"dataframe\">\n",
       "  <thead>\n",
       "    <tr style=\"text-align: right;\">\n",
       "      <th></th>\n",
       "      <th>city</th>\n",
       "      <th>area</th>\n",
       "      <th>rooms</th>\n",
       "      <th>bathroom</th>\n",
       "      <th>parking spaces</th>\n",
       "      <th>floor</th>\n",
       "      <th>hoa</th>\n",
       "      <th>rent amount</th>\n",
       "      <th>property tax</th>\n",
       "      <th>fire insurance</th>\n",
       "      <th>total</th>\n",
       "      <th>animal_acept</th>\n",
       "      <th>animal_not acept</th>\n",
       "      <th>furniture_furnished</th>\n",
       "      <th>furniture_not furnished</th>\n",
       "    </tr>\n",
       "  </thead>\n",
       "  <tbody>\n",
       "    <tr>\n",
       "      <th>0</th>\n",
       "      <td>yes</td>\n",
       "      <td>240</td>\n",
       "      <td>3</td>\n",
       "      <td>3</td>\n",
       "      <td>4</td>\n",
       "      <td>7</td>\n",
       "      <td>0.0</td>\n",
       "      <td>8000</td>\n",
       "      <td>1000.0</td>\n",
       "      <td>121</td>\n",
       "      <td>9121</td>\n",
       "      <td>1</td>\n",
       "      <td>0</td>\n",
       "      <td>1</td>\n",
       "      <td>0</td>\n",
       "    </tr>\n",
       "    <tr>\n",
       "      <th>1</th>\n",
       "      <td>no</td>\n",
       "      <td>64</td>\n",
       "      <td>2</td>\n",
       "      <td>1</td>\n",
       "      <td>1</td>\n",
       "      <td>10</td>\n",
       "      <td>540.0</td>\n",
       "      <td>820</td>\n",
       "      <td>122.0</td>\n",
       "      <td>11</td>\n",
       "      <td>1493</td>\n",
       "      <td>1</td>\n",
       "      <td>0</td>\n",
       "      <td>0</td>\n",
       "      <td>1</td>\n",
       "    </tr>\n",
       "    <tr>\n",
       "      <th>2</th>\n",
       "      <td>yes</td>\n",
       "      <td>443</td>\n",
       "      <td>5</td>\n",
       "      <td>5</td>\n",
       "      <td>4</td>\n",
       "      <td>3</td>\n",
       "      <td>4172.0</td>\n",
       "      <td>7000</td>\n",
       "      <td>1417.0</td>\n",
       "      <td>89</td>\n",
       "      <td>12680</td>\n",
       "      <td>1</td>\n",
       "      <td>0</td>\n",
       "      <td>1</td>\n",
       "      <td>0</td>\n",
       "    </tr>\n",
       "    <tr>\n",
       "      <th>3</th>\n",
       "      <td>yes</td>\n",
       "      <td>73</td>\n",
       "      <td>2</td>\n",
       "      <td>2</td>\n",
       "      <td>1</td>\n",
       "      <td>12</td>\n",
       "      <td>700.0</td>\n",
       "      <td>1250</td>\n",
       "      <td>150.0</td>\n",
       "      <td>16</td>\n",
       "      <td>2116</td>\n",
       "      <td>1</td>\n",
       "      <td>0</td>\n",
       "      <td>0</td>\n",
       "      <td>1</td>\n",
       "    </tr>\n",
       "    <tr>\n",
       "      <th>4</th>\n",
       "      <td>yes</td>\n",
       "      <td>19</td>\n",
       "      <td>1</td>\n",
       "      <td>1</td>\n",
       "      <td>0</td>\n",
       "      <td>7</td>\n",
       "      <td>0.0</td>\n",
       "      <td>1200</td>\n",
       "      <td>41.0</td>\n",
       "      <td>16</td>\n",
       "      <td>1257</td>\n",
       "      <td>0</td>\n",
       "      <td>1</td>\n",
       "      <td>0</td>\n",
       "      <td>1</td>\n",
       "    </tr>\n",
       "  </tbody>\n",
       "</table>\n",
       "</div>"
      ],
      "text/plain": [
       "  city  area  rooms  bathroom  parking spaces  floor     hoa  rent amount  \\\n",
       "0  yes   240      3         3               4      7     0.0         8000   \n",
       "1   no    64      2         1               1     10   540.0          820   \n",
       "2  yes   443      5         5               4      3  4172.0         7000   \n",
       "3  yes    73      2         2               1     12   700.0         1250   \n",
       "4  yes    19      1         1               0      7     0.0         1200   \n",
       "\n",
       "   property tax  fire insurance  total  animal_acept  animal_not acept  \\\n",
       "0        1000.0             121   9121             1                 0   \n",
       "1         122.0              11   1493             1                 0   \n",
       "2        1417.0              89  12680             1                 0   \n",
       "3         150.0              16   2116             1                 0   \n",
       "4          41.0              16   1257             0                 1   \n",
       "\n",
       "   furniture_furnished  furniture_not furnished  \n",
       "0                    1                        0  \n",
       "1                    0                        1  \n",
       "2                    1                        0  \n",
       "3                    0                        1  \n",
       "4                    0                        1  "
      ]
     },
     "execution_count": 147,
     "metadata": {},
     "output_type": "execute_result"
    }
   ],
   "source": [
    "df.head()"
   ]
  },
  {
   "cell_type": "code",
   "execution_count": 148,
   "metadata": {},
   "outputs": [],
   "source": [
    "df = pd.get_dummies(df)"
   ]
  },
  {
   "cell_type": "code",
   "execution_count": 149,
   "metadata": {},
   "outputs": [
    {
     "data": {
      "text/html": [
       "<div>\n",
       "<style scoped>\n",
       "    .dataframe tbody tr th:only-of-type {\n",
       "        vertical-align: middle;\n",
       "    }\n",
       "\n",
       "    .dataframe tbody tr th {\n",
       "        vertical-align: top;\n",
       "    }\n",
       "\n",
       "    .dataframe thead th {\n",
       "        text-align: right;\n",
       "    }\n",
       "</style>\n",
       "<table border=\"1\" class=\"dataframe\">\n",
       "  <thead>\n",
       "    <tr style=\"text-align: right;\">\n",
       "      <th></th>\n",
       "      <th>area</th>\n",
       "      <th>rooms</th>\n",
       "      <th>bathroom</th>\n",
       "      <th>parking spaces</th>\n",
       "      <th>floor</th>\n",
       "      <th>hoa</th>\n",
       "      <th>rent amount</th>\n",
       "      <th>property tax</th>\n",
       "      <th>fire insurance</th>\n",
       "      <th>total</th>\n",
       "      <th>animal_acept</th>\n",
       "      <th>animal_not acept</th>\n",
       "      <th>furniture_furnished</th>\n",
       "      <th>furniture_not furnished</th>\n",
       "      <th>city_no</th>\n",
       "      <th>city_yes</th>\n",
       "    </tr>\n",
       "  </thead>\n",
       "  <tbody>\n",
       "    <tr>\n",
       "      <th>0</th>\n",
       "      <td>240</td>\n",
       "      <td>3</td>\n",
       "      <td>3</td>\n",
       "      <td>4</td>\n",
       "      <td>7</td>\n",
       "      <td>0.0</td>\n",
       "      <td>8000</td>\n",
       "      <td>1000.0</td>\n",
       "      <td>121</td>\n",
       "      <td>9121</td>\n",
       "      <td>1</td>\n",
       "      <td>0</td>\n",
       "      <td>1</td>\n",
       "      <td>0</td>\n",
       "      <td>0</td>\n",
       "      <td>1</td>\n",
       "    </tr>\n",
       "    <tr>\n",
       "      <th>1</th>\n",
       "      <td>64</td>\n",
       "      <td>2</td>\n",
       "      <td>1</td>\n",
       "      <td>1</td>\n",
       "      <td>10</td>\n",
       "      <td>540.0</td>\n",
       "      <td>820</td>\n",
       "      <td>122.0</td>\n",
       "      <td>11</td>\n",
       "      <td>1493</td>\n",
       "      <td>1</td>\n",
       "      <td>0</td>\n",
       "      <td>0</td>\n",
       "      <td>1</td>\n",
       "      <td>1</td>\n",
       "      <td>0</td>\n",
       "    </tr>\n",
       "    <tr>\n",
       "      <th>2</th>\n",
       "      <td>443</td>\n",
       "      <td>5</td>\n",
       "      <td>5</td>\n",
       "      <td>4</td>\n",
       "      <td>3</td>\n",
       "      <td>4172.0</td>\n",
       "      <td>7000</td>\n",
       "      <td>1417.0</td>\n",
       "      <td>89</td>\n",
       "      <td>12680</td>\n",
       "      <td>1</td>\n",
       "      <td>0</td>\n",
       "      <td>1</td>\n",
       "      <td>0</td>\n",
       "      <td>0</td>\n",
       "      <td>1</td>\n",
       "    </tr>\n",
       "    <tr>\n",
       "      <th>3</th>\n",
       "      <td>73</td>\n",
       "      <td>2</td>\n",
       "      <td>2</td>\n",
       "      <td>1</td>\n",
       "      <td>12</td>\n",
       "      <td>700.0</td>\n",
       "      <td>1250</td>\n",
       "      <td>150.0</td>\n",
       "      <td>16</td>\n",
       "      <td>2116</td>\n",
       "      <td>1</td>\n",
       "      <td>0</td>\n",
       "      <td>0</td>\n",
       "      <td>1</td>\n",
       "      <td>0</td>\n",
       "      <td>1</td>\n",
       "    </tr>\n",
       "    <tr>\n",
       "      <th>4</th>\n",
       "      <td>19</td>\n",
       "      <td>1</td>\n",
       "      <td>1</td>\n",
       "      <td>0</td>\n",
       "      <td>7</td>\n",
       "      <td>0.0</td>\n",
       "      <td>1200</td>\n",
       "      <td>41.0</td>\n",
       "      <td>16</td>\n",
       "      <td>1257</td>\n",
       "      <td>0</td>\n",
       "      <td>1</td>\n",
       "      <td>0</td>\n",
       "      <td>1</td>\n",
       "      <td>0</td>\n",
       "      <td>1</td>\n",
       "    </tr>\n",
       "  </tbody>\n",
       "</table>\n",
       "</div>"
      ],
      "text/plain": [
       "   area  rooms  bathroom  parking spaces  floor     hoa  rent amount  \\\n",
       "0   240      3         3               4      7     0.0         8000   \n",
       "1    64      2         1               1     10   540.0          820   \n",
       "2   443      5         5               4      3  4172.0         7000   \n",
       "3    73      2         2               1     12   700.0         1250   \n",
       "4    19      1         1               0      7     0.0         1200   \n",
       "\n",
       "   property tax  fire insurance  total  animal_acept  animal_not acept  \\\n",
       "0        1000.0             121   9121             1                 0   \n",
       "1         122.0              11   1493             1                 0   \n",
       "2        1417.0              89  12680             1                 0   \n",
       "3         150.0              16   2116             1                 0   \n",
       "4          41.0              16   1257             0                 1   \n",
       "\n",
       "   furniture_furnished  furniture_not furnished  city_no  city_yes  \n",
       "0                    1                        0        0         1  \n",
       "1                    0                        1        1         0  \n",
       "2                    1                        0        0         1  \n",
       "3                    0                        1        0         1  \n",
       "4                    0                        1        0         1  "
      ]
     },
     "execution_count": 149,
     "metadata": {},
     "output_type": "execute_result"
    }
   ],
   "source": [
    "df.head()"
   ]
  },
  {
   "cell_type": "code",
   "execution_count": 151,
   "metadata": {},
   "outputs": [],
   "source": [
    "x = df.drop('total',axis=1)\n",
    "y = df['total']"
   ]
  },
  {
   "cell_type": "code",
   "execution_count": 161,
   "metadata": {},
   "outputs": [],
   "source": [
    "xtrain,xtest,ytrain,ytest = train_test_split(x,y,test_size=0.2,random_state=1)\n",
    "scale = MinMaxScaler()\n",
    "xtrain = scale.fit_transform(xtrain)\n",
    "xtest = scale.transform(xtest)"
   ]
  },
  {
   "cell_type": "code",
   "execution_count": 169,
   "metadata": {},
   "outputs": [
    {
     "data": {
      "text/plain": [
       "GridSearchCV(cv=5, error_score=nan,\n",
       "             estimator=Pipeline(memory=None,\n",
       "                                steps=[('kb',\n",
       "                                        SelectKBest(k=10,\n",
       "                                                    score_func=<function chi2 at 0x000001FD39EE7678>)),\n",
       "                                       ('pca',\n",
       "                                        PCA(copy=True, iterated_power='auto',\n",
       "                                            n_components=None,\n",
       "                                            random_state=None,\n",
       "                                            svd_solver='auto', tol=0.0,\n",
       "                                            whiten=False)),\n",
       "                                       ('lasso',\n",
       "                                        Lasso(alpha=1.0, copy_X=True,\n",
       "                                              fit_intercept=True, max_iter=1000,\n",
       "                                              normalize=False, p...\n",
       "                                              precompute=False, random_state=1,\n",
       "                                              selection='cyclic', tol=0.0001,\n",
       "                                              warm_start=False))],\n",
       "                                verbose=False),\n",
       "             iid='deprecated', n_jobs=None,\n",
       "             param_grid={'kb__k': [2, 4, 6, 8, 10],\n",
       "                         'lasso__alpha': [0.001, 0.01, 0.1, 1, 3, 7, 10],\n",
       "                         'lasso__normalize': [False, True],\n",
       "                         'pca__n_components': [0.3, 0.5, 0.8]},\n",
       "             pre_dispatch='2*n_jobs', refit=True, return_train_score=False,\n",
       "             scoring=None, verbose=0)"
      ]
     },
     "execution_count": 169,
     "metadata": {},
     "output_type": "execute_result"
    }
   ],
   "source": [
    "# Lasso regression\n",
    "lasso_pip = Pipeline([\n",
    "               ('kb',SelectKBest(chi2)),\n",
    "               ('pca',PCA()),\n",
    "               ('lasso',Lasso(random_state=1))])\n",
    "lasso = GridSearchCV(lasso_pip,param_grid={'kb__k':[2,4,6,8,10],\n",
    "                                         'pca__n_components':[0.3,0.5,0.8],\n",
    "                                         'lasso__alpha':[0.001,0.01,0.1,1,3,7,10],\n",
    "                                         'lasso__normalize':[False,True]},cv=5)\n",
    "lasso.fit(xtrain,ytrain)"
   ]
  },
  {
   "cell_type": "code",
   "execution_count": 170,
   "metadata": {},
   "outputs": [
    {
     "name": "stdout",
     "output_type": "stream",
     "text": [
      "0.03119170052667697\n",
      "0.09343185328322325\n"
     ]
    },
    {
     "data": {
      "text/plain": [
       "{'kb__k': 10,\n",
       " 'lasso__alpha': 0.001,\n",
       " 'lasso__normalize': False,\n",
       " 'pca__n_components': 0.8}"
      ]
     },
     "execution_count": 170,
     "metadata": {},
     "output_type": "execute_result"
    }
   ],
   "source": [
    "print(lasso.score(xtrain,ytrain))\n",
    "print(lasso.score(xtest,ytest))\n",
    "lasso.best_params_"
   ]
  },
  {
   "cell_type": "code",
   "execution_count": 171,
   "metadata": {},
   "outputs": [
    {
     "data": {
      "text/plain": [
       "GridSearchCV(cv=5, error_score=nan,\n",
       "             estimator=Pipeline(memory=None,\n",
       "                                steps=[('kb',\n",
       "                                        SelectKBest(k=10,\n",
       "                                                    score_func=<function chi2 at 0x000001FD39EE7678>)),\n",
       "                                       ('pca',\n",
       "                                        PCA(copy=True, iterated_power='auto',\n",
       "                                            n_components=None,\n",
       "                                            random_state=None,\n",
       "                                            svd_solver='auto', tol=0.0,\n",
       "                                            whiten=False)),\n",
       "                                       ('ridge',\n",
       "                                        Ridge(alpha=1.0, copy_X=True,\n",
       "                                              fit_intercept=True, max_iter=None,\n",
       "                                              normalize=False, random_state=1,\n",
       "                                              solver='auto', tol=0.001))],\n",
       "                                verbose=False),\n",
       "             iid='deprecated', n_jobs=None,\n",
       "             param_grid={'kb__k': [2, 4, 6, 8, 10],\n",
       "                         'pca__n_components': [0.3, 0.5, 0.8],\n",
       "                         'ridge__alpha': [0.001, 0.01, 0.1, 1, 3, 7, 10],\n",
       "                         'ridge__normalize': [False, True]},\n",
       "             pre_dispatch='2*n_jobs', refit=True, return_train_score=False,\n",
       "             scoring=None, verbose=0)"
      ]
     },
     "execution_count": 171,
     "metadata": {},
     "output_type": "execute_result"
    }
   ],
   "source": [
    "# Ridge Regression\n",
    "ridge_pip = Pipeline([\n",
    "               ('kb',SelectKBest(chi2)),\n",
    "               ('pca',PCA()),\n",
    "               ('ridge',Ridge(random_state=1))])\n",
    "ridge = GridSearchCV(ridge_pip,param_grid={'kb__k':[2,4,6,8,10],\n",
    "                                         'pca__n_components':[0.3,0.5,0.8],\n",
    "                                         'ridge__alpha':[0.001,0.01,0.1,1,3,7,10],\n",
    "                                         'ridge__normalize':[False,True]},cv=5)\n",
    "ridge.fit(xtrain,ytrain)"
   ]
  },
  {
   "cell_type": "code",
   "execution_count": 172,
   "metadata": {},
   "outputs": [
    {
     "name": "stdout",
     "output_type": "stream",
     "text": [
      "0.03119168434721964\n",
      "0.09344783915591637\n"
     ]
    },
    {
     "data": {
      "text/plain": [
       "{'kb__k': 10,\n",
       " 'pca__n_components': 0.8,\n",
       " 'ridge__alpha': 1,\n",
       " 'ridge__normalize': False}"
      ]
     },
     "execution_count": 172,
     "metadata": {},
     "output_type": "execute_result"
    }
   ],
   "source": [
    "print(ridge.score(xtrain,ytrain))\n",
    "print(ridge.score(xtest,ytest))\n",
    "ridge.best_params_"
   ]
  },
  {
   "cell_type": "code",
   "execution_count": 227,
   "metadata": {},
   "outputs": [
    {
     "name": "stdout",
     "output_type": "stream",
     "text": [
      "0.9755461407037936\n",
      "0.9609838319543\n"
     ]
    }
   ],
   "source": [
    "# Random Forest Regression\n",
    "rfr = RandomForestRegressor(n_estimators=100,random_state=1).fit(xtrain,ytrain)\n",
    "print(rfr.score(xtrain,ytrain))\n",
    "print(rfr.score(xtest,ytest))"
   ]
  },
  {
   "cell_type": "code",
   "execution_count": 228,
   "metadata": {},
   "outputs": [
    {
     "data": {
      "text/plain": [
       "Text(0.5, 1.0, 'Feature selected by Random Forest Model')"
      ]
     },
     "execution_count": 228,
     "metadata": {},
     "output_type": "execute_result"
    },
    {
     "data": {
      "image/png": "[encoded data removed]",
      "text/plain": [
       "<Figure size 432x288 with 1 Axes>"
      ]
     },
     "metadata": {
      "needs_background": "light"
     },
     "output_type": "display_data"
    }
   ],
   "source": [
    "newdf = df.drop('total',axis=1)\n",
    "feature = pd.DataFrame(rfr.feature_importances_*100,index=\n",
    "                       newdf.columns)\n",
    "feature.columns = ['Importance']\n",
    "feature.sort_values(by='Importance').plot(kind='barh')\n",
    "plt.xlim(0,30)\n",
    "plt.title('Feature selected by Random Forest Model')"
   ]
  },
  {
   "cell_type": "code",
   "execution_count": 229,
   "metadata": {},
   "outputs": [
    {
     "data": {
      "text/plain": [
       "144.6503782894737"
      ]
     },
     "execution_count": 229,
     "metadata": {},
     "output_type": "execute_result"
    }
   ],
   "source": [
    "pred = rfr.predict(xtest)\n",
    "mean_absolute_error(ytest,pred)"
   ]
  },
  {
   "cell_type": "code",
   "execution_count": 248,
   "metadata": {},
   "outputs": [
    {
     "data": {
      "text/plain": [
       "<matplotlib.axes._subplots.AxesSubplot at 0x1fd436dcfc8>"
      ]
     },
     "execution_count": 248,
     "metadata": {},
     "output_type": "execute_result"
    },
    {
     "data": {
      "image/png": "[encoded data removed]",
      "text/plain": [
       "<Figure size 432x288 with 1 Axes>"
      ]
     },
     "metadata": {
      "needs_background": "light"
     },
     "output_type": "display_data"
    }
   ],
   "source": [
    "sns.regplot(ytest,pred,color='blue')"
   ]
  },
  {
   "cell_type": "code",
   "execution_count": 251,
   "metadata": {},
   "outputs": [
    {
     "data": {
      "text/html": [
       "<table class=\"simpletable\">\n",
       "<caption>OLS Regression Results</caption>\n",
       "<tr>\n",
       "  <th>Dep. Variable:</th>          <td>total</td>      <th>  R-squared:         </th> <td>   0.999</td> \n",
       "</tr>\n",
       "<tr>\n",
       "  <th>Model:</th>                   <td>OLS</td>       <th>  Adj. R-squared:    </th> <td>   0.999</td> \n",
       "</tr>\n",
       "<tr>\n",
       "  <th>Method:</th>             <td>Least Squares</td>  <th>  F-statistic:       </th> <td>9.519e+05</td>\n",
       "</tr>\n",
       "<tr>\n",
       "  <th>Date:</th>             <td>Thu, 18 Jun 2020</td> <th>  Prob (F-statistic):</th>  <td>  0.00</td>  \n",
       "</tr>\n",
       "<tr>\n",
       "  <th>Time:</th>                 <td>11:29:33</td>     <th>  Log-Likelihood:    </th> <td> -40890.</td> \n",
       "</tr>\n",
       "<tr>\n",
       "  <th>No. Observations:</th>      <td>  6080</td>      <th>  AIC:               </th> <td>8.181e+04</td>\n",
       "</tr>\n",
       "<tr>\n",
       "  <th>Df Residuals:</th>          <td>  6067</td>      <th>  BIC:               </th> <td>8.189e+04</td>\n",
       "</tr>\n",
       "<tr>\n",
       "  <th>Df Model:</th>              <td>    12</td>      <th>                     </th>     <td> </td>    \n",
       "</tr>\n",
       "<tr>\n",
       "  <th>Covariance Type:</th>      <td>nonrobust</td>    <th>                     </th>     <td> </td>    \n",
       "</tr>\n",
       "</table>\n",
       "<table class=\"simpletable\">\n",
       "<tr>\n",
       "             <td></td>                <th>coef</th>     <th>std err</th>      <th>t</th>      <th>P>|t|</th>  <th>[0.025</th>    <th>0.975]</th>  \n",
       "</tr>\n",
       "<tr>\n",
       "  <th>area</th>                    <td>-3.408e-05</td> <td>    0.007</td> <td>   -0.005</td> <td> 0.996</td> <td>   -0.014</td> <td>    0.014</td>\n",
       "</tr>\n",
       "<tr>\n",
       "  <th>rooms</th>                   <td>    2.8777</td> <td>    3.651</td> <td>    0.788</td> <td> 0.431</td> <td>   -4.279</td> <td>   10.034</td>\n",
       "</tr>\n",
       "<tr>\n",
       "  <th>bathroom</th>                <td>    4.3554</td> <td>    3.208</td> <td>    1.358</td> <td> 0.175</td> <td>   -1.934</td> <td>   10.645</td>\n",
       "</tr>\n",
       "<tr>\n",
       "  <th>parking spaces</th>          <td>   -3.2461</td> <td>    2.373</td> <td>   -1.368</td> <td> 0.171</td> <td>   -7.898</td> <td>    1.406</td>\n",
       "</tr>\n",
       "<tr>\n",
       "  <th>floor</th>                   <td>    0.7380</td> <td>    0.510</td> <td>    1.448</td> <td> 0.148</td> <td>   -0.261</td> <td>    1.737</td>\n",
       "</tr>\n",
       "<tr>\n",
       "  <th>hoa</th>                     <td>    0.9990</td> <td>    0.001</td> <td> 1485.298</td> <td> 0.000</td> <td>    0.998</td> <td>    1.000</td>\n",
       "</tr>\n",
       "<tr>\n",
       "  <th>rent amount</th>             <td>    1.0432</td> <td>    0.005</td> <td>  227.336</td> <td> 0.000</td> <td>    1.034</td> <td>    1.052</td>\n",
       "</tr>\n",
       "<tr>\n",
       "  <th>property tax</th>            <td>    1.0003</td> <td>    0.000</td> <td> 2392.961</td> <td> 0.000</td> <td>    0.999</td> <td>    1.001</td>\n",
       "</tr>\n",
       "<tr>\n",
       "  <th>fire insurance</th>          <td>   -2.2356</td> <td>    0.335</td> <td>   -6.675</td> <td> 0.000</td> <td>   -2.892</td> <td>   -1.579</td>\n",
       "</tr>\n",
       "<tr>\n",
       "  <th>animal_acept</th>            <td>   -2.8909</td> <td>    3.930</td> <td>   -0.736</td> <td> 0.462</td> <td>  -10.596</td> <td>    4.814</td>\n",
       "</tr>\n",
       "<tr>\n",
       "  <th>animal_not acept</th>        <td>  -31.9086</td> <td>    4.254</td> <td>   -7.501</td> <td> 0.000</td> <td>  -40.247</td> <td>  -23.570</td>\n",
       "</tr>\n",
       "<tr>\n",
       "  <th>furniture_furnished</th>     <td>   -9.2134</td> <td>    4.394</td> <td>   -2.097</td> <td> 0.036</td> <td>  -17.827</td> <td>   -0.600</td>\n",
       "</tr>\n",
       "<tr>\n",
       "  <th>furniture_not furnished</th> <td>  -25.5861</td> <td>    3.692</td> <td>   -6.931</td> <td> 0.000</td> <td>  -32.823</td> <td>  -18.349</td>\n",
       "</tr>\n",
       "<tr>\n",
       "  <th>city_no</th>                 <td>   -5.3342</td> <td>    5.299</td> <td>   -1.007</td> <td> 0.314</td> <td>  -15.722</td> <td>    5.054</td>\n",
       "</tr>\n",
       "<tr>\n",
       "  <th>city_yes</th>                <td>  -29.4653</td> <td>    4.022</td> <td>   -7.325</td> <td> 0.000</td> <td>  -37.351</td> <td>  -21.580</td>\n",
       "</tr>\n",
       "</table>\n",
       "<table class=\"simpletable\">\n",
       "<tr>\n",
       "  <th>Omnibus:</th>       <td>5775.417</td> <th>  Durbin-Watson:     </th>  <td>   1.981</td> \n",
       "</tr>\n",
       "<tr>\n",
       "  <th>Prob(Omnibus):</th>  <td> 0.000</td>  <th>  Jarque-Bera (JB):  </th> <td>155636.552</td>\n",
       "</tr>\n",
       "<tr>\n",
       "  <th>Skew:</th>           <td>-4.882</td>  <th>  Prob(JB):          </th>  <td>    0.00</td> \n",
       "</tr>\n",
       "<tr>\n",
       "  <th>Kurtosis:</th>       <td>25.782</td>  <th>  Cond. No.          </th>  <td>7.68e+19</td> \n",
       "</tr>\n",
       "</table><br/><br/>Warnings:<br/>[1] Standard Errors assume that the covariance matrix of the errors is correctly specified.<br/>[2] The smallest eigenvalue is 4.23e-29. This might indicate that there are<br/>strong multicollinearity problems or that the design matrix is singular."
      ],
      "text/plain": [
       "<class 'statsmodels.iolib.summary.Summary'>\n",
       "\"\"\"\n",
       "                            OLS Regression Results                            \n",
       "==============================================================================\n",
       "Dep. Variable:                  total   R-squared:                       0.999\n",
       "Model:                            OLS   Adj. R-squared:                  0.999\n",
       "Method:                 Least Squares   F-statistic:                 9.519e+05\n",
       "Date:                Thu, 18 Jun 2020   Prob (F-statistic):               0.00\n",
       "Time:                        11:29:33   Log-Likelihood:                -40890.\n",
       "No. Observations:                6080   AIC:                         8.181e+04\n",
       "Df Residuals:                    6067   BIC:                         8.189e+04\n",
       "Df Model:                          12                                         \n",
       "Covariance Type:            nonrobust                                         \n",
       "===========================================================================================\n",
       "                              coef    std err          t      P>|t|      [0.025      0.975]\n",
       "-------------------------------------------------------------------------------------------\n",
       "area                    -3.408e-05      0.007     -0.005      0.996      -0.014       0.014\n",
       "rooms                       2.8777      3.651      0.788      0.431      -4.279      10.034\n",
       "bathroom                    4.3554      3.208      1.358      0.175      -1.934      10.645\n",
       "parking spaces             -3.2461      2.373     -1.368      0.171      -7.898       1.406\n",
       "floor                       0.7380      0.510      1.448      0.148      -0.261       1.737\n",
       "hoa                         0.9990      0.001   1485.298      0.000       0.998       1.000\n",
       "rent amount                 1.0432      0.005    227.336      0.000       1.034       1.052\n",
       "property tax                1.0003      0.000   2392.961      0.000       0.999       1.001\n",
       "fire insurance             -2.2356      0.335     -6.675      0.000      -2.892      -1.579\n",
       "animal_acept               -2.8909      3.930     -0.736      0.462     -10.596       4.814\n",
       "animal_not acept          -31.9086      4.254     -7.501      0.000     -40.247     -23.570\n",
       "furniture_furnished        -9.2134      4.394     -2.097      0.036     -17.827      -0.600\n",
       "furniture_not furnished   -25.5861      3.692     -6.931      0.000     -32.823     -18.349\n",
       "city_no                    -5.3342      5.299     -1.007      0.314     -15.722       5.054\n",
       "city_yes                  -29.4653      4.022     -7.325      0.000     -37.351     -21.580\n",
       "==============================================================================\n",
       "Omnibus:                     5775.417   Durbin-Watson:                   1.981\n",
       "Prob(Omnibus):                  0.000   Jarque-Bera (JB):           155636.552\n",
       "Skew:                          -4.882   Prob(JB):                         0.00\n",
       "Kurtosis:                      25.782   Cond. No.                     7.68e+19\n",
       "==============================================================================\n",
       "\n",
       "Warnings:\n",
       "[1] Standard Errors assume that the covariance matrix of the errors is correctly specified.\n",
       "[2] The smallest eigenvalue is 4.23e-29. This might indicate that there are\n",
       "strong multicollinearity problems or that the design matrix is singular.\n",
       "\"\"\""
      ]
     },
     "execution_count": 251,
     "metadata": {},
     "output_type": "execute_result"
    }
   ],
   "source": [
    "sm.add_constant(df)\n",
    "lm = sm.OLS(y,x)\n",
    "model = lm.fit()\n",
    "model.summary()"
   ]
  },
  {
   "cell_type": "code",
   "execution_count": null,
   "metadata": {},
   "outputs": [],
   "source": []
  }
 ],
 "metadata": {
  "kernelspec": {
   "display_name": "Python 3",
   "language": "python",
   "name": "python3"
  },
  "language_info": {
   "codemirror_mode": {
    "name": "ipython",
    "version": 3
   },
   "file_extension": ".py",
   "mimetype": "text/x-python",
   "name": "python",
   "nbconvert_exporter": "python",
   "pygments_lexer": "ipython3",
   "version": "3.7.6"
  }
 },
 "nbformat": 4,
 "nbformat_minor": 4
}
