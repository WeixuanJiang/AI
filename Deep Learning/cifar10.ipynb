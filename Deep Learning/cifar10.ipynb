{
 "cells": [
  {
   "cell_type": "code",
   "execution_count": 1,
   "metadata": {},
   "outputs": [
    {
     "name": "stderr",
     "output_type": "stream",
     "text": [
      "Using TensorFlow backend.\n"
     ]
    }
   ],
   "source": [
    "import numpy as np\n",
    "import tensorflow as tf\n",
    "from keras import layers\n",
    "from keras.layers import Dense,Conv2D,MaxPooling2D\n",
    "from keras.models import Sequential\n",
    "from keras.datasets import mnist\n",
    "from keras.callbacks import ModelCheckpoint,EarlyStopping\n",
    "import keras\n",
    "import pandas as pd"
   ]
  },
  {
   "cell_type": "code",
   "execution_count": 2,
   "metadata": {},
   "outputs": [
    {
     "name": "stdout",
     "output_type": "stream",
     "text": [
      "Model: \"toy_resnet\"\n",
      "__________________________________________________________________________________________________\n",
      "Layer (type)                    Output Shape         Param #     Connected to                     \n",
      "==================================================================================================\n",
      "img (InputLayer)                (None, 32, 32, 3)    0                                            \n",
      "__________________________________________________________________________________________________\n",
      "conv2d_1 (Conv2D)               (None, 30, 30, 32)   896         img[0][0]                        \n",
      "__________________________________________________________________________________________________\n",
      "conv2d_2 (Conv2D)               (None, 28, 28, 64)   18496       conv2d_1[0][0]                   \n",
      "__________________________________________________________________________________________________\n",
      "max_pooling2d_1 (MaxPooling2D)  (None, 9, 9, 64)     0           conv2d_2[0][0]                   \n",
      "__________________________________________________________________________________________________\n",
      "conv2d_3 (Conv2D)               (None, 9, 9, 64)     36928       max_pooling2d_1[0][0]            \n",
      "__________________________________________________________________________________________________\n",
      "conv2d_4 (Conv2D)               (None, 9, 9, 64)     36928       conv2d_3[0][0]                   \n",
      "__________________________________________________________________________________________________\n",
      "add_1 (Add)                     (None, 9, 9, 64)     0           conv2d_4[0][0]                   \n",
      "                                                                 max_pooling2d_1[0][0]            \n",
      "__________________________________________________________________________________________________\n",
      "conv2d_5 (Conv2D)               (None, 9, 9, 64)     36928       add_1[0][0]                      \n",
      "__________________________________________________________________________________________________\n",
      "conv2d_6 (Conv2D)               (None, 9, 9, 64)     36928       conv2d_5[0][0]                   \n",
      "__________________________________________________________________________________________________\n",
      "add_2 (Add)                     (None, 9, 9, 64)     0           conv2d_6[0][0]                   \n",
      "                                                                 add_1[0][0]                      \n",
      "__________________________________________________________________________________________________\n",
      "conv2d_7 (Conv2D)               (None, 9, 9, 64)     36928       add_2[0][0]                      \n",
      "__________________________________________________________________________________________________\n",
      "global_average_pooling2d_1 (Glo (None, 64)           0           conv2d_7[0][0]                   \n",
      "__________________________________________________________________________________________________\n",
      "dense_1 (Dense)                 (None, 256)          16640       global_average_pooling2d_1[0][0] \n",
      "__________________________________________________________________________________________________\n",
      "dropout_1 (Dropout)             (None, 256)          0           dense_1[0][0]                    \n",
      "__________________________________________________________________________________________________\n",
      "dense_2 (Dense)                 (None, 10)           2570        dropout_1[0][0]                  \n",
      "==================================================================================================\n",
      "Total params: 223,242\n",
      "Trainable params: 223,242\n",
      "Non-trainable params: 0\n",
      "__________________________________________________________________________________________________\n"
     ]
    }
   ],
   "source": [
    "# ResNet on CIFER10 dataset\n",
    "inputs = keras.Input(shape=(32,32,3),name='img')\n",
    "x = Conv2D(32,3,activation='relu')(inputs)\n",
    "x = Conv2D(64,3,activation='relu')(x)\n",
    "block_1_output = layers.MaxPool2D(3)(x)\n",
    "\n",
    "x = Conv2D(64,3,activation='relu',padding='same')(block_1_output)\n",
    "x = Conv2D(64,3,activation='relu',padding='same')(x)\n",
    "block_2_output = layers.add([x,block_1_output])\n",
    "\n",
    "x = Conv2D(64,3,activation='relu',padding='same')(block_2_output)\n",
    "x = Conv2D(64,3,activation='relu',padding='same')(x)\n",
    "block_3_output = layers.add([x,block_2_output])\n",
    "\n",
    "x = Conv2D(64,3,activation='relu',padding='same')(block_3_output)\n",
    "x = layers.GlobalAveragePooling2D()(x)\n",
    "x = Dense(256,activation='relu')(x)\n",
    "x = layers.Dropout(0.5)(x)\n",
    "outputs = Dense(10)(x)\n",
    "model = keras.Model(inputs,outputs,name='toy_resnet')\n",
    "model.summary()"
   ]
  },
  {
   "cell_type": "code",
   "execution_count": 9,
   "metadata": {},
   "outputs": [
    {
     "name": "stdout",
     "output_type": "stream",
     "text": [
      "(50000, 32, 32, 3)\n",
      "(10000, 32, 32, 3)\n",
      "Train on 1000 samples, validate on 1000 samples\n",
      "Epoch 1/50\n",
      "1000/1000 [==============================] - 4s 4ms/step - loss: 23.7220 - acc: 0.1690 - val_loss: 2.3045 - val_acc: 0.0920\n",
      "Epoch 2/50\n",
      "1000/1000 [==============================] - 4s 4ms/step - loss: 2.2971 - acc: 0.1140 - val_loss: 2.2827 - val_acc: 0.1240\n",
      "Epoch 3/50\n",
      "1000/1000 [==============================] - 3s 3ms/step - loss: 2.2798 - acc: 0.1130 - val_loss: 2.3054 - val_acc: 0.1150\n",
      "Epoch 4/50\n",
      "1000/1000 [==============================] - 4s 4ms/step - loss: 2.3050 - acc: 0.1120 - val_loss: 2.3033 - val_acc: 0.1120\n",
      "Epoch 5/50\n",
      "1000/1000 [==============================] - 4s 4ms/step - loss: 2.3066 - acc: 0.0850 - val_loss: 2.3023 - val_acc: 0.1030\n",
      "Epoch 6/50\n",
      "1000/1000 [==============================] - 4s 4ms/step - loss: 2.3026 - acc: 0.0860 - val_loss: 2.3019 - val_acc: 0.1120\n",
      "Epoch 7/50\n",
      "1000/1000 [==============================] - 3s 3ms/step - loss: 2.3017 - acc: 0.1130 - val_loss: 2.3021 - val_acc: 0.1140\n",
      "Epoch 8/50\n",
      "1000/1000 [==============================] - 4s 4ms/step - loss: 2.3025 - acc: 0.1050 - val_loss: 2.3030 - val_acc: 0.1140\n",
      "Epoch 9/50\n",
      "1000/1000 [==============================] - 4s 4ms/step - loss: 2.3019 - acc: 0.1190 - val_loss: 2.3028 - val_acc: 0.0890\n",
      "Epoch 10/50\n",
      "1000/1000 [==============================] - 4s 4ms/step - loss: 2.3010 - acc: 0.1050 - val_loss: 2.3025 - val_acc: 0.0890\n",
      "Epoch 11/50\n",
      "1000/1000 [==============================] - 4s 4ms/step - loss: 2.3013 - acc: 0.1080 - val_loss: 2.3026 - val_acc: 0.0890\n",
      "Epoch 12/50\n",
      "1000/1000 [==============================] - 3s 3ms/step - loss: 2.3019 - acc: 0.1120 - val_loss: 2.3028 - val_acc: 0.0890\n",
      "Epoch 13/50\n",
      "1000/1000 [==============================] - 4s 4ms/step - loss: 2.3002 - acc: 0.1110 - val_loss: 2.3025 - val_acc: 0.0890\n",
      "Epoch 14/50\n",
      "1000/1000 [==============================] - 4s 4ms/step - loss: 2.3007 - acc: 0.1110 - val_loss: 2.3029 - val_acc: 0.0890\n",
      "Epoch 15/50\n",
      "1000/1000 [==============================] - 4s 4ms/step - loss: 2.3004 - acc: 0.1150 - val_loss: 2.3031 - val_acc: 0.0890\n",
      "Epoch 16/50\n",
      "1000/1000 [==============================] - 3s 3ms/step - loss: 2.3010 - acc: 0.1190 - val_loss: 2.3032 - val_acc: 0.0890\n",
      "Epoch 17/50\n",
      "1000/1000 [==============================] - 3s 3ms/step - loss: 2.3004 - acc: 0.1120 - val_loss: 2.3031 - val_acc: 0.0890\n",
      "Epoch 18/50\n",
      "1000/1000 [==============================] - 4s 4ms/step - loss: 2.3014 - acc: 0.1150 - val_loss: 2.3031 - val_acc: 0.0890\n",
      "Epoch 19/50\n",
      "1000/1000 [==============================] - 4s 4ms/step - loss: 2.3000 - acc: 0.1070 - val_loss: 2.3029 - val_acc: 0.0890\n",
      "Epoch 20/50\n",
      "1000/1000 [==============================] - 4s 4ms/step - loss: 2.2998 - acc: 0.1140 - val_loss: 2.3024 - val_acc: 0.0890\n",
      "Epoch 21/50\n",
      "1000/1000 [==============================] - 3s 3ms/step - loss: 2.2983 - acc: 0.1120 - val_loss: 2.3029 - val_acc: 0.0890\n",
      "Epoch 22/50\n",
      "1000/1000 [==============================] - 4s 4ms/step - loss: 2.2926 - acc: 0.1140 - val_loss: 2.3742 - val_acc: 0.0950\n",
      "Epoch 23/50\n",
      "1000/1000 [==============================] - 3s 3ms/step - loss: 2.3188 - acc: 0.1280 - val_loss: 2.3034 - val_acc: 0.1120\n",
      "Epoch 24/50\n",
      "1000/1000 [==============================] - 4s 4ms/step - loss: 2.3048 - acc: 0.1130 - val_loss: 2.3085 - val_acc: 0.0990\n",
      "Epoch 25/50\n",
      "1000/1000 [==============================] - 3s 3ms/step - loss: 2.3045 - acc: 0.1040 - val_loss: 2.3017 - val_acc: 0.1120\n",
      "Epoch 26/50\n",
      "1000/1000 [==============================] - 3s 3ms/step - loss: 2.3034 - acc: 0.1070 - val_loss: 2.3026 - val_acc: 0.1120\n",
      "Epoch 27/50\n",
      "1000/1000 [==============================] - 4s 4ms/step - loss: 2.3002 - acc: 0.1120 - val_loss: 2.3020 - val_acc: 0.1120\n",
      "Epoch 28/50\n",
      "1000/1000 [==============================] - 3s 3ms/step - loss: 2.3008 - acc: 0.1140 - val_loss: 2.3025 - val_acc: 0.0890\n",
      "Epoch 29/50\n",
      "1000/1000 [==============================] - 4s 4ms/step - loss: 2.2996 - acc: 0.1100 - val_loss: 2.3020 - val_acc: 0.0890\n",
      "Epoch 30/50\n",
      "1000/1000 [==============================] - 3s 3ms/step - loss: 2.2993 - acc: 0.1160 - val_loss: 2.2951 - val_acc: 0.1370\n",
      "Epoch 31/50\n",
      "1000/1000 [==============================] - 3s 3ms/step - loss: 2.2919 - acc: 0.1380 - val_loss: 2.2924 - val_acc: 0.0940\n",
      "Epoch 32/50\n",
      "1000/1000 [==============================] - 4s 4ms/step - loss: 2.2862 - acc: 0.1460 - val_loss: 2.2856 - val_acc: 0.1190\n",
      "Epoch 33/50\n",
      "1000/1000 [==============================] - 4s 4ms/step - loss: 2.2715 - acc: 0.1460 - val_loss: 2.2541 - val_acc: 0.1360\n",
      "Epoch 34/50\n",
      "1000/1000 [==============================] - 4s 4ms/step - loss: 2.2628 - acc: 0.1370 - val_loss: 2.2526 - val_acc: 0.1380\n",
      "Epoch 35/50\n",
      "1000/1000 [==============================] - 3s 3ms/step - loss: 2.2527 - acc: 0.1540 - val_loss: 2.2511 - val_acc: 0.1350\n",
      "Epoch 36/50\n",
      "1000/1000 [==============================] - 4s 4ms/step - loss: 2.2581 - acc: 0.1450 - val_loss: 2.2274 - val_acc: 0.1540\n",
      "Epoch 37/50\n",
      "1000/1000 [==============================] - 4s 4ms/step - loss: 2.2498 - acc: 0.1540 - val_loss: 2.2106 - val_acc: 0.1730\n",
      "Epoch 38/50\n",
      "1000/1000 [==============================] - 4s 4ms/step - loss: 2.2069 - acc: 0.1790 - val_loss: 2.2098 - val_acc: 0.1420\n",
      "Epoch 39/50\n",
      "1000/1000 [==============================] - 3s 3ms/step - loss: 2.1971 - acc: 0.1600 - val_loss: 2.1645 - val_acc: 0.1740\n",
      "Epoch 40/50\n",
      "1000/1000 [==============================] - 3s 3ms/step - loss: 2.1703 - acc: 0.2080 - val_loss: 2.1271 - val_acc: 0.2080\n",
      "Epoch 41/50\n",
      "1000/1000 [==============================] - 4s 4ms/step - loss: 2.1510 - acc: 0.1840 - val_loss: 2.1224 - val_acc: 0.1890\n",
      "Epoch 42/50\n",
      "1000/1000 [==============================] - 4s 4ms/step - loss: 2.1349 - acc: 0.1940 - val_loss: 2.1050 - val_acc: 0.1980\n",
      "Epoch 43/50\n",
      "1000/1000 [==============================] - 4s 4ms/step - loss: 2.1367 - acc: 0.1900 - val_loss: 2.1066 - val_acc: 0.2030\n",
      "Epoch 44/50\n",
      "1000/1000 [==============================] - 3s 3ms/step - loss: 2.1140 - acc: 0.2110 - val_loss: 2.1119 - val_acc: 0.2030\n",
      "Epoch 45/50\n",
      "1000/1000 [==============================] - 4s 4ms/step - loss: 2.1170 - acc: 0.2020 - val_loss: 2.0992 - val_acc: 0.1980\n",
      "Epoch 46/50\n",
      "1000/1000 [==============================] - 4s 4ms/step - loss: 2.1176 - acc: 0.2150 - val_loss: 2.0870 - val_acc: 0.2130\n",
      "Epoch 47/50\n",
      "1000/1000 [==============================] - 4s 4ms/step - loss: 2.1173 - acc: 0.2100 - val_loss: 2.0887 - val_acc: 0.2110\n",
      "Epoch 48/50\n",
      "1000/1000 [==============================] - 4s 4ms/step - loss: 2.0833 - acc: 0.2060 - val_loss: 2.0947 - val_acc: 0.2040\n",
      "Epoch 49/50\n",
      "1000/1000 [==============================] - 3s 3ms/step - loss: 2.0936 - acc: 0.2100 - val_loss: 2.1005 - val_acc: 0.2080\n",
      "Epoch 50/50\n",
      "1000/1000 [==============================] - 4s 4ms/step - loss: 2.0876 - acc: 0.2140 - val_loss: 2.0776 - val_acc: 0.2090\n"
     ]
    }
   ],
   "source": [
    "# Data preprocessing\n",
    "(xtrain,ytrain),(xtest,ytest) = keras.datasets.cifar10.load_data()\n",
    "print(xtrain.shape)\n",
    "print(xtest.shape)\n",
    "xtrain = xtrain/255\n",
    "xtest = xtest/255\n",
    "ytrain = keras.utils.to_categorical(ytrain,10)\n",
    "ytest = keras.utils.to_categorical(ytest,10)\n",
    "\n",
    "# Train the model\n",
    "model.compile(optimizer=keras.optimizers.Adam(1e-2), loss=keras.losses.CategoricalCrossentropy(from_logits=True),\n",
    "             metrics=['acc'])\n",
    "history = model.fit(xtrain[:1000],ytrain[:1000],epochs=50,validation_data=(xtest[:1000],ytest[:1000]),batch_size=128)"
   ]
  },
  {
   "cell_type": "code",
   "execution_count": 10,
   "metadata": {},
   "outputs": [],
   "source": [
    "# Save the model\n",
    "model.save('resnet_model')\n",
    "\n",
    "# load the model\n",
    "model = keras.models.load_model('resnet_model')"
   ]
  },
  {
   "cell_type": "code",
   "execution_count": 11,
   "metadata": {},
   "outputs": [
    {
     "data": {
      "text/plain": [
       "<matplotlib.axes._subplots.AxesSubplot at 0x25906688888>"
      ]
     },
     "execution_count": 11,
     "metadata": {},
     "output_type": "execute_result"
    },
    {
     "data": {
      "image/png": "[encoded data removed]",
      "text/plain": [
       "<Figure size 432x288 with 1 Axes>"
      ]
     },
     "metadata": {
      "needs_background": "light"
     },
     "output_type": "display_data"
    }
   ],
   "source": [
    "pd.DataFrame(history.history).plot()"
   ]
  },
  {
   "cell_type": "code",
   "execution_count": null,
   "metadata": {},
   "outputs": [],
   "source": []
  },
  {
   "cell_type": "code",
   "execution_count": null,
   "metadata": {},
   "outputs": [],
   "source": []
  }
 ],
 "metadata": {
  "kernelspec": {
   "display_name": "Python 3",
   "language": "python",
   "name": "python3"
  },
  "language_info": {
   "codemirror_mode": {
    "name": "ipython",
    "version": 3
   },
   "file_extension": ".py",
   "mimetype": "text/x-python",
   "name": "python",
   "nbconvert_exporter": "python",
   "pygments_lexer": "ipython3",
   "version": "3.7.6"
  }
 },
 "nbformat": 4,
 "nbformat_minor": 4
}
