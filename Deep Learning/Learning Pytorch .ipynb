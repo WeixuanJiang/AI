{
 "cells": [
  {
   "cell_type": "code",
   "execution_count": 1,
   "metadata": {},
   "outputs": [],
   "source": [
    "import torch.nn as nn\n",
    "import torch\n",
    "import torch.nn.functional as F\n",
    "from torchvision import datasets,transforms\n",
    "import torch.optim as optim\n",
    "from torch.autograd import Variable\n",
    "from torch.utils.data import DataLoader\n",
    "import matplotlib.pyplot as plt\n",
    "import numpy as np"
   ]
  },
  {
   "cell_type": "code",
   "execution_count": 15,
   "metadata": {},
   "outputs": [],
   "source": [
    "# lienar model\n",
    "x = np.random.randn(100)\n",
    "noise = np.random.normal(0.1,1,x.shape)\n",
    "y = x*2.5 + noise"
   ]
  },
  {
   "cell_type": "code",
   "execution_count": 16,
   "metadata": {},
   "outputs": [
    {
     "data": {
      "text/plain": [
       "<matplotlib.collections.PathCollection at 0x14ad5b26348>"
      ]
     },
     "execution_count": 16,
     "metadata": {},
     "output_type": "execute_result"
    },
    {
     "data": {
      "image/png": "[encoded data removed]",
      "text/plain": [
       "<Figure size 432x288 with 1 Axes>"
      ]
     },
     "metadata": {
      "needs_background": "light"
     },
     "output_type": "display_data"
    }
   ],
   "source": [
    "plt.scatter(x,y)"
   ]
  },
  {
   "cell_type": "code",
   "execution_count": 17,
   "metadata": {},
   "outputs": [],
   "source": [
    "x = x.reshape(-1,1)\n",
    "y = y.reshape(-1,1)\n",
    "x = torch.FloatTensor(x)\n",
    "y = torch.FloatTensor(y)\n",
    "inputs = Variable(x)\n",
    "outputs = Variable(y)"
   ]
  },
  {
   "cell_type": "code",
   "execution_count": 18,
   "metadata": {},
   "outputs": [],
   "source": [
    "class reg(nn.Module):\n",
    "    def __init__(self):\n",
    "        super(reg,self).__init__()\n",
    "        self.liner = nn.Linear(1,1)\n",
    "    def forward(self,x):\n",
    "        out = self.liner(x)\n",
    "        return out\n",
    "    "
   ]
  },
  {
   "cell_type": "code",
   "execution_count": 19,
   "metadata": {},
   "outputs": [],
   "source": [
    "# define the model\n",
    "model = reg()\n",
    "# define a loss function\n",
    "loss = nn.MSELoss()\n",
    "# define a optimizer\n",
    "optimizer = optim.SGD(model.parameters(),lr=0.001)\n",
    "\n"
   ]
  },
  {
   "cell_type": "code",
   "execution_count": 20,
   "metadata": {},
   "outputs": [
    {
     "name": "stdout",
     "output_type": "stream",
     "text": [
      "0 4.330234527587891\n",
      "100 3.2645797729492188\n",
      "200 2.5355401039123535\n",
      "300 2.0344765186309814\n",
      "400 1.688460111618042\n",
      "500 1.4483531713485718\n",
      "600 1.2809215784072876\n",
      "700 1.1635953187942505\n",
      "800 1.080981969833374\n",
      "900 1.022534728050232\n",
      "1000 0.9809926748275757\n"
     ]
    }
   ],
   "source": [
    "for i in range(1001):\n",
    "    out = model(inputs)\n",
    "    # calculate loss\n",
    "    loss_mse = loss(out,outputs)\n",
    "    # zero gradiant\n",
    "    optimizer.zero_grad()\n",
    "    # calculate gradiant\n",
    "    loss_mse.backward()\n",
    "    #change parameters\n",
    "    optimizer.step()\n",
    "    if i%100 == 0:\n",
    "        print(i,loss_mse.item())"
   ]
  },
  {
   "cell_type": "code",
   "execution_count": 21,
   "metadata": {},
   "outputs": [
    {
     "data": {
      "text/plain": [
       "[<matplotlib.lines.Line2D at 0x14ad5211288>]"
      ]
     },
     "execution_count": 21,
     "metadata": {},
     "output_type": "execute_result"
    },
    {
     "data": {
      "image/png": "[encoded data removed]",
      "text/plain": [
       "<Figure size 432x288 with 1 Axes>"
      ]
     },
     "metadata": {
      "needs_background": "light"
     },
     "output_type": "display_data"
    }
   ],
   "source": [
    "pre = model(inputs)\n",
    "plt.scatter(x,y)\n",
    "plt.plot(x,pre.data.numpy(),'b-',lw=4)"
   ]
  },
  {
   "cell_type": "code",
   "execution_count": 22,
   "metadata": {},
   "outputs": [
    {
     "data": {
      "text/plain": [
       "<matplotlib.collections.PathCollection at 0x14ad5bdf988>"
      ]
     },
     "execution_count": 22,
     "metadata": {},
     "output_type": "execute_result"
    },
    {
     "data": {
      "image/png": "[encoded data removed]",
      "text/plain": [
       "<Figure size 432x288 with 1 Axes>"
      ]
     },
     "metadata": {
      "needs_background": "light"
     },
     "output_type": "display_data"
    }
   ],
   "source": [
    "# non-linear model\n",
    "x = np.linspace(-2,2,200)[:,np.newaxis]\n",
    "noise = np.random.normal(0,0.2,x.shape)\n",
    "y = np.square(x) + noise\n",
    "plt.scatter(x,y)"
   ]
  },
  {
   "cell_type": "code",
   "execution_count": 23,
   "metadata": {},
   "outputs": [],
   "source": [
    "x = x.reshape(-1,1)\n",
    "y = y.reshape(-1,1)\n",
    "x = torch.FloatTensor(x)\n",
    "y = torch.FloatTensor(y)\n",
    "inputs = Variable(x)\n",
    "outputs = Variable(y)"
   ]
  },
  {
   "cell_type": "code",
   "execution_count": 27,
   "metadata": {},
   "outputs": [],
   "source": [
    "class non_linear(nn.Module):\n",
    "    def __init__(self):\n",
    "        super(non_linear,self).__init__()\n",
    "        self.liner = nn.Linear(1,10)\n",
    "        self.tanh = nn.Tanh()\n",
    "        self.fc = nn.Linear(10,1)\n",
    "    def forward(self,x):\n",
    "        x = self.liner(x)\n",
    "        x = self.tanh(x)\n",
    "        x = self.fc(x)\n",
    "        return x\n",
    "    "
   ]
  },
  {
   "cell_type": "code",
   "execution_count": 28,
   "metadata": {},
   "outputs": [
    {
     "name": "stdout",
     "output_type": "stream",
     "text": [
      "name: liner.weight  params: Parameter containing:\n",
      "tensor([[ 0.4973],\n",
      "        [-0.2745],\n",
      "        [-0.3184],\n",
      "        [-0.9591],\n",
      "        [ 0.8463],\n",
      "        [-0.0142],\n",
      "        [ 0.2715],\n",
      "        [-0.3860],\n",
      "        [ 0.8808],\n",
      "        [-0.8235]], requires_grad=True)\n",
      "name: liner.bias  params: Parameter containing:\n",
      "tensor([ 0.0643,  0.7315,  0.1240, -0.5497, -0.1386,  0.2439,  0.3012,  0.6399,\n",
      "         0.6905,  0.6223], requires_grad=True)\n",
      "name: fc.weight  params: Parameter containing:\n",
      "tensor([[ 0.0876,  0.2574,  0.2737, -0.1211, -0.2678, -0.2512,  0.2559,  0.3003,\n",
      "         -0.2886, -0.0468]], requires_grad=True)\n",
      "name: fc.bias  params: Parameter containing:\n",
      "tensor([0.1014], requires_grad=True)\n"
     ]
    }
   ],
   "source": [
    "# define the model\n",
    "model = non_linear()\n",
    "# define a loss function\n",
    "loss = nn.MSELoss()\n",
    "# define a optimizer\n",
    "optimizer = optim.SGD(model.parameters(),lr=0.3)\n",
    "\n",
    "for name, param in model.named_parameters():\n",
    "    print('name: {}  params: {}'.format(name,param))\n"
   ]
  },
  {
   "cell_type": "code",
   "execution_count": 29,
   "metadata": {},
   "outputs": [
    {
     "name": "stdout",
     "output_type": "stream",
     "text": [
      "0 2.587009906768799\n",
      "200 0.17043651640415192\n",
      "400 0.07070612162351608\n",
      "600 0.06568130850791931\n",
      "800 0.06474482268095016\n",
      "1000 0.062451206147670746\n",
      "1200 0.060930781066417694\n",
      "1400 0.06012275069952011\n",
      "1600 0.059657126665115356\n",
      "1800 0.059349752962589264\n",
      "2000 0.05912090465426445\n"
     ]
    }
   ],
   "source": [
    "for i in range(2001):\n",
    "    out = model(inputs)\n",
    "    # calculate loss\n",
    "    loss_mse = loss(out,outputs)\n",
    "    # zero gradiant\n",
    "    optimizer.zero_grad()\n",
    "    # calculate gradiant\n",
    "    loss_mse.backward()\n",
    "    #change parameters\n",
    "    optimizer.step()\n",
    "    if i%200 == 0:\n",
    "        print(i,loss_mse.item())"
   ]
  },
  {
   "cell_type": "code",
   "execution_count": 31,
   "metadata": {},
   "outputs": [
    {
     "data": {
      "text/plain": [
       "[<matplotlib.lines.Line2D at 0x14adcd19f08>]"
      ]
     },
     "execution_count": 31,
     "metadata": {},
     "output_type": "execute_result"
    },
    {
     "data": {
      "image/png": "[encoded data removed]",
      "text/plain": [
       "<Figure size 432x288 with 1 Axes>"
      ]
     },
     "metadata": {
      "needs_background": "light"
     },
     "output_type": "display_data"
    }
   ],
   "source": [
    "predict = model(inputs)\n",
    "plt.scatter(x,y)\n",
    "plt.plot(x,predict.data.numpy(),'b-',lw=2)"
   ]
  },
  {
   "cell_type": "markdown",
   "metadata": {},
   "source": [
    "   <b>MINST dataset,cross entropy, optimizer, overfitting, dropout, and normalization"
   ]
  },
  {
   "cell_type": "code",
   "execution_count": 2,
   "metadata": {},
   "outputs": [],
   "source": [
    "train_data = datasets.MNIST(root='./',train=True,transform=transforms.ToTensor(),download=True)\n",
    "test_data = datasets.MNIST(root='./',train=False,transform=transforms.ToTensor(),download=True)"
   ]
  },
  {
   "cell_type": "code",
   "execution_count": 3,
   "metadata": {},
   "outputs": [],
   "source": [
    "batch_size = 64\n",
    "\n",
    "#data loader\n",
    "train_loader = DataLoader(dataset=train_data,\n",
    "                         batch_size=batch_size,\n",
    "                         shuffle=True)\n",
    "test_loader = DataLoader(dataset=test_data,\n",
    "                         batch_size=batch_size,\n",
    "                         shuffle=True)"
   ]
  },
  {
   "cell_type": "code",
   "execution_count": 4,
   "metadata": {},
   "outputs": [
    {
     "name": "stdout",
     "output_type": "stream",
     "text": [
      "torch.Size([64, 1, 28, 28])\n",
      "torch.Size([64])\n"
     ]
    }
   ],
   "source": [
    "for i, data in enumerate(train_loader):\n",
    "    inputs,label = data\n",
    "    print(inputs.shape)\n",
    "    print(label.shape)\n",
    "    break"
   ]
  },
  {
   "cell_type": "code",
   "execution_count": 5,
   "metadata": {},
   "outputs": [],
   "source": [
    "# define the network\n",
    "class Net(nn.Module):\n",
    "    def __init__(self):\n",
    "        super(Net,self).__init__()\n",
    "        self.layer1 = nn.Sequential(nn.Linear(28*28,500),\n",
    "                                   nn.Dropout(p=0),\n",
    "                                   nn.ReLU())\n",
    "        self.layer2 = nn.Sequential(nn.Linear(500,300),\n",
    "                                   nn.Dropout(p=0),\n",
    "                                   nn.ReLU())\n",
    "        self.layer3 = nn.Sequential(nn.Linear(300,10),\n",
    "                                   nn.Softmax(dim=1))\n",
    "\n",
    "    def forward(self,x):\n",
    "        #change data to two dims (has to be two dims)\n",
    "        x = x.view(x.size(0),-1)\n",
    "        x = self.layer1(x)\n",
    "        x = self.layer2(x)\n",
    "        x = self.layer3(x)\n",
    "        return x\n",
    "    "
   ]
  },
  {
   "cell_type": "code",
   "execution_count": 6,
   "metadata": {},
   "outputs": [],
   "source": [
    "#define the model\n",
    "model = Net()\n",
    "#define loss\n",
    "mse_loss = nn.CrossEntropyLoss() # when use CrossEntroy loss we do not need to one hot encoding\n",
    "#define optimizer\n",
    "optimizer = optim.Adam(model.parameters(),lr=0.001,weight_decay=0.001) # weight_decay is a normalization function\n",
    "# the bigger the weight_decay, the lower chance of overfitting. normalization is used for solve overfitting problem"
   ]
  },
  {
   "cell_type": "code",
   "execution_count": 7,
   "metadata": {},
   "outputs": [],
   "source": [
    "# define a training function\n",
    "def train():\n",
    "    #change to model to train to ensure Dropout is working \n",
    "    model.train()\n",
    "    for i, data in enumerate(train_loader):\n",
    "        inputs,labels = data\n",
    "        # get the output of model\n",
    "        out = model(inputs)\n",
    "        loss = mse_loss(out,labels)\n",
    "        optimizer.zero_grad()\n",
    "        loss.backward()\n",
    "        optimizer.step()"
   ]
  },
  {
   "cell_type": "code",
   "execution_count": 8,
   "metadata": {},
   "outputs": [],
   "source": [
    "# define a test function:\n",
    "def test():\n",
    "    # change the model to evaluate to ensure Dropout is not working (dropout is not used in evaluation)\n",
    "    model.eval()\n",
    "    correct = 0\n",
    "    for i, data in enumerate(test_loader):\n",
    "        inputs,labels= data\n",
    "        out = model(inputs)\n",
    "        # get the max value and its index\n",
    "        _,predict = torch.max(out,1)\n",
    "        \n",
    "        correct += (predict == labels).sum()\n",
    "        \n",
    "    print('Test rate: {:.4f}'.format(correct.item()/len(test_data)))\n",
    "    correct1 = 0 \n",
    "    for i, data in enumerate(train_loader):\n",
    "        inputs,labels= data\n",
    "        out = model(inputs)\n",
    "        # get the max value and its index\n",
    "        _,predict = torch.max(out,1)\n",
    "        \n",
    "        correct1 += (predict == labels).sum()\n",
    "        \n",
    "    print('Train rate: {:.4f}'.format(correct1.item()/len(train_data)))"
   ]
  },
  {
   "cell_type": "code",
   "execution_count": null,
   "metadata": {},
   "outputs": [
    {
     "name": "stdout",
     "output_type": "stream",
     "text": [
      "Epoch: 1\n",
      "Test rate: 0.9435\n",
      "Train rate: 0.9409\n",
      "Epoch: 2\n",
      "Test rate: 0.9509\n",
      "Train rate: 0.9515\n",
      "Epoch: 3\n",
      "Test rate: 0.9565\n",
      "Train rate: 0.9590\n",
      "Epoch: 4\n",
      "Test rate: 0.9630\n",
      "Train rate: 0.9647\n",
      "Epoch: 5\n",
      "Test rate: 0.9650\n",
      "Train rate: 0.9674\n",
      "Epoch: 6\n",
      "Test rate: 0.9647\n",
      "Train rate: 0.9670\n",
      "Epoch: 7\n"
     ]
    }
   ],
   "source": [
    "for i in range(20):\n",
    "    print('Epoch: {}'.format(i+1))\n",
    "    train()\n",
    "    test()"
   ]
  },
  {
   "cell_type": "markdown",
   "metadata": {},
   "source": [
    "<b>Optimizer"
   ]
  },
  {
   "cell_type": "code",
   "execution_count": 77,
   "metadata": {},
   "outputs": [],
   "source": [
    "#SGDM\n",
    "# optimizer = optim.SGD(model.parameters(),lr=0.5,weight_decay=0.001,momentum=0.4)\n",
    "\n",
    "#SGD\n",
    "# optimizer = optim.SGD(model.parameters(),lr=0.5,weight_decay=0.001)\n",
    "\n",
    "#Adam\n",
    "# optimizer = optim.Adam(model.parameters(),lr=0.001,weight_decay=0.001)"
   ]
  },
  {
   "cell_type": "markdown",
   "metadata": {},
   "source": [
    "<b>Conv2D, maxPooling2D"
   ]
  },
  {
   "cell_type": "code",
   "execution_count": 11,
   "metadata": {},
   "outputs": [
    {
     "name": "stdout",
     "output_type": "stream",
     "text": [
      "Epoch: 1\n",
      "Test rate: 0.9774\n",
      "Train rate: 0.9754\n",
      "Epoch: 2\n",
      "Test rate: 0.9858\n",
      "Train rate: 0.9874\n",
      "Epoch: 3\n",
      "Test rate: 0.9891\n",
      "Train rate: 0.9886\n",
      "Epoch: 4\n",
      "Test rate: 0.9873\n",
      "Train rate: 0.9880\n",
      "Epoch: 5\n",
      "Test rate: 0.9902\n",
      "Train rate: 0.9904\n",
      "Epoch: 6\n",
      "Test rate: 0.9905\n",
      "Train rate: 0.9917\n",
      "Epoch: 7\n",
      "Test rate: 0.9910\n",
      "Train rate: 0.9917\n",
      "Epoch: 8\n",
      "Test rate: 0.9899\n",
      "Train rate: 0.9908\n",
      "Epoch: 9\n",
      "Test rate: 0.9916\n",
      "Train rate: 0.9934\n",
      "Epoch: 10\n",
      "Test rate: 0.9911\n",
      "Train rate: 0.9920\n",
      "Epoch: 11\n",
      "Test rate: 0.9914\n",
      "Train rate: 0.9925\n",
      "Epoch: 12\n",
      "Test rate: 0.9919\n",
      "Train rate: 0.9924\n",
      "Epoch: 13\n",
      "Test rate: 0.9904\n",
      "Train rate: 0.9928\n",
      "Epoch: 14\n",
      "Test rate: 0.9910\n",
      "Train rate: 0.9927\n",
      "Epoch: 15\n",
      "Test rate: 0.9908\n",
      "Train rate: 0.9932\n",
      "Epoch: 16\n",
      "Test rate: 0.9905\n",
      "Train rate: 0.9933\n",
      "Epoch: 17\n",
      "Test rate: 0.9914\n",
      "Train rate: 0.9939\n",
      "Epoch: 18\n",
      "Test rate: 0.9920\n",
      "Train rate: 0.9949\n",
      "Epoch: 19\n",
      "Test rate: 0.9918\n",
      "Train rate: 0.9945\n",
      "Epoch: 20\n",
      "Test rate: 0.9918\n",
      "Train rate: 0.9936\n"
     ]
    }
   ],
   "source": [
    "# Conv2D, maxPooling2D\n",
    "train_data = datasets.MNIST(root='./',train=True,transform=transforms.ToTensor(),download=True)\n",
    "test_data = datasets.MNIST(root='./',train=False,transform=transforms.ToTensor(),download=True)\n",
    "\n",
    "batch_size = 64\n",
    "\n",
    "#data loader\n",
    "train_loader = DataLoader(dataset=train_data,\n",
    "                         batch_size=batch_size,\n",
    "                         shuffle=True)\n",
    "test_loader = DataLoader(dataset=test_data,\n",
    "                         batch_size=batch_size,\n",
    "                         shuffle=True)\n",
    "\n",
    "# define the network\n",
    "class Net(nn.Module):\n",
    "    def __init__(self):\n",
    "        super(Net,self).__init__()\n",
    "        self.conv1 = nn.Sequential(nn.Conv2d(1,32,5,1,2), \n",
    "                                   # in_channels is the color of image, for gray image is 1, color is 3\n",
    "                                   # out_chennels is number of samle image to produce\n",
    "                                   # kernal_size = 5\n",
    "                                   # stride = 1 \n",
    "                                   # padding = 3x3 kernel size use 1, 5x5 kernal size use 2, 7x7 kernal size use 3\n",
    "                                   nn.ReLU(),\n",
    "                                   nn.MaxPool2d(2,2))\n",
    "                                   # kernal_size = 2\n",
    "                                   # stride = 2 \n",
    "\n",
    "        self.conv2 = nn.Sequential(nn.Conv2d(32,64,5,1,2),\n",
    "                                   nn.ReLU(),\n",
    "                                   nn.MaxPool2d(2,2))\n",
    "        self.fc1 = nn.Sequential(nn.Linear(64*7*7,500), \n",
    "                                 # 64 is upper layer samle images, 28 - 14 - 7 (during the conv padding process)\n",
    "                                   nn.ReLU(),\n",
    "                                   nn.Dropout(p=0.5))\n",
    "        self.fc2 = nn.Sequential(nn.Linear(500,10),\n",
    "                                   nn.Softmax(dim=1))\n",
    "\n",
    "    def forward(self,x):\n",
    "        # conv layers must be 4d to calculate [64,1,28,28]\n",
    "        x = self.conv1(x)\n",
    "        x = self.conv2(x)\n",
    "\n",
    "        # fully connected layer must be 2d to calculate\n",
    "        x = x.view(x.size(0),-1)\n",
    "        x = self.fc1(x)\n",
    "        x = self.fc2(x)\n",
    "        return x\n",
    "    \n",
    "#define the model\n",
    "model = Net()\n",
    "#define loss\n",
    "mse_loss = nn.CrossEntropyLoss() # when use CrossEntroy loss we do not need to one hot encoding\n",
    "#define optimizer\n",
    "optimizer = optim.Adam(model.parameters(),lr=0.001,weight_decay=0.0001) # weight_decay is a normalization function\n",
    "# the bigger the weight_decay, the lower chance of overfitting. normalization is used for solve overfitting problem\n",
    "\n",
    "# define a training function\n",
    "def train():\n",
    "    #change to model to train to ensure Dropout is working \n",
    "    model.train()\n",
    "    for i, data in enumerate(train_loader):\n",
    "        inputs,labels = data\n",
    "        # get the output of model\n",
    "        out = model(inputs)\n",
    "        loss = mse_loss(out,labels)\n",
    "        optimizer.zero_grad()\n",
    "        loss.backward()\n",
    "        optimizer.step()\n",
    "        \n",
    "# define a test function:\n",
    "def test():\n",
    "    # change the model to evaluate to ensure Dropout is not working (dropout is not used in evaluation)\n",
    "    model.eval()\n",
    "    correct = 0\n",
    "    for i, data in enumerate(test_loader):\n",
    "        inputs,labels= data\n",
    "        out = model(inputs)\n",
    "        # get the max value and its index\n",
    "        _,predict = torch.max(out,1)\n",
    "        \n",
    "        correct += (predict == labels).sum()\n",
    "        \n",
    "    print('Test rate: {:.4f}'.format(correct.item()/len(test_data)))\n",
    "    correct1 = 0 \n",
    "    for i, data in enumerate(train_loader):\n",
    "        inputs,labels= data\n",
    "        out = model(inputs)\n",
    "        # get the max value and its index\n",
    "        _,predict = torch.max(out,1)\n",
    "        \n",
    "        correct1 += (predict == labels).sum()\n",
    "        \n",
    "    print('Train rate: {:.4f}'.format(correct1.item()/len(train_data)))\n",
    "    \n",
    "for i in range(20):\n",
    "    print('Epoch: {}'.format(i+1))\n",
    "    train()\n",
    "    test()"
   ]
  },
  {
   "cell_type": "code",
   "execution_count": null,
   "metadata": {},
   "outputs": [],
   "source": []
  }
 ],
 "metadata": {
  "kernelspec": {
   "display_name": "Python 3",
   "language": "python",
   "name": "python3"
  },
  "language_info": {
   "codemirror_mode": {
    "name": "ipython",
    "version": 3
   },
   "file_extension": ".py",
   "mimetype": "text/x-python",
   "name": "python",
   "nbconvert_exporter": "python",
   "pygments_lexer": "ipython3",
   "version": "3.7.6"
  }
 },
 "nbformat": 4,
 "nbformat_minor": 4
}
