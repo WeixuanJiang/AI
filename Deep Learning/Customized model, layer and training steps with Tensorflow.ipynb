{
 "cells": [
  {
   "cell_type": "code",
   "execution_count": 1,
   "metadata": {},
   "outputs": [],
   "source": [
    "import tensorflow as tf\n",
    "import numpy as np\n",
    "import math\n",
    "import matplotlib.pyplot as plt"
   ]
  },
  {
   "cell_type": "code",
   "execution_count": 2,
   "metadata": {},
   "outputs": [],
   "source": [
    "# import dataset\n",
    "(images, labels), _ = tf.keras.datasets.mnist.load_data()\n",
    "\n",
    "dataset = tf.data.Dataset.from_tensor_slices(\n",
    "  (tf.cast(images[...,tf.newaxis]/255, tf.float32),\n",
    "   tf.cast(labels,tf.int64)))"
   ]
  },
  {
   "cell_type": "code",
   "execution_count": 3,
   "metadata": {},
   "outputs": [],
   "source": [
    "# custom dense layer\n",
    "class Dense(tf.keras.layers.Layer):\n",
    "    def __init__(self,units,activation=None,**kwargs):\n",
    "        super(Dense,self).__init__(**kwargs)\n",
    "        self.units = units\n",
    "        self.activation = tf.keras.activations.get(activation)\n",
    "    def build(self,input_shape):\n",
    "        self.w = self.add_weight(shape=(input_shape[-1],self.units)\n",
    "                                 ,initializer='random_normal',trainable=True)\n",
    "        self.b = self.add_weight(shape=(self.units,)\n",
    "                                ,initializer='random_normal',trainable=True)\n",
    "        \n",
    "    def call(self,x):\n",
    "        return self.activation(tf.matmul(x,self.w)  + self.b)\n",
    "    \n",
    "\n",
    "# define model class\n",
    "class Conv2DModel(tf.keras.Model):\n",
    "    def __init__(self,units,kernel,strides):\n",
    "        super(Conv2DModel,self).__init__()\n",
    "        un1,un2,un3 = units\n",
    "        ker1,ker2,ker3 = kernel\n",
    "        str1,str2,str3 = strides\n",
    "        self.conv1 = tf.keras.layers.Conv2D(un1,ker1,strides=str1,activation='relu',name='conv1')\n",
    "        self.conv2= tf.keras.layers.Conv2D(un2,ker2,strides=str2,activation='relu',name='conv2')\n",
    "        self.conv3= tf.keras.layers.Conv2D(un2,ker3,strides=str3,activation='relu',name='conv3')\n",
    "        \n",
    "        self.flatten = tf.keras.layers.Flatten()\n",
    "        self.dense = Dense(un2+un3,activation='relu')\n",
    "        self.outputs = Dense(10,activation='softmax')\n",
    "        \n",
    "    def call(self,inputs):\n",
    "        x = self.conv1(inputs)\n",
    "        x = self.conv2(x)\n",
    "        x = self.conv3(x)\n",
    "        x = self.flatten(x)\n",
    "        x = self.dense(x)\n",
    "        \n",
    "        return self.outputs(x)\n",
    "\n",
    "# initialize the model\n",
    "model = Conv2DModel([32,64,128],\n",
    "                  [4,3,3],\n",
    "                  [1,1,1])"
   ]
  },
  {
   "cell_type": "code",
   "execution_count": 4,
   "metadata": {},
   "outputs": [],
   "source": [
    "# set loss,metrics and optimizer\n",
    "loss_fc = tf.keras.losses.SparseCategoricalCrossentropy(from_logits=True,name='train_loss')\n",
    "optimizer = tf.keras.optimizers.Adam(lr=0.001)\n",
    "train_loss = tf.keras.metrics.Mean()\n",
    "val_loss = tf.keras.metrics.Mean()\n",
    "train_accuracy = tf.keras.metrics.SparseCategoricalAccuracy(name='train_acc')\n",
    "val_accuracy = tf.keras.metrics.SparseCategoricalAccuracy(name='val_acc')"
   ]
  },
  {
   "cell_type": "code",
   "execution_count": 5,
   "metadata": {},
   "outputs": [],
   "source": [
    "# training function with autograph \n",
    "@tf.function\n",
    "def train_step(image,targets):\n",
    "    with tf.GradientTape() as tape:\n",
    "        pred = model(image)\n",
    "        losses = loss_fc(targets,pred)\n",
    "    gradients = tape.gradient(losses,model.trainable_variables)\n",
    "    optimizer.apply_gradients(zip(gradients,model.trainable_variables))\n",
    "    train_loss(losses)\n",
    "    train_accuracy(targets,pred)\n",
    "    \n",
    "# validation function with autograph \n",
    "@tf.function\n",
    "def valiation_step(images,targets):\n",
    "    pred = model(images)\n",
    "    v_loss = loss_fc(targets,pred)\n",
    "    val_loss(v_loss)\n",
    "    val_accuracy(targets,pred)"
   ]
  },
  {
   "cell_type": "code",
   "execution_count": 6,
   "metadata": {},
   "outputs": [
    {
     "name": "stdout",
     "output_type": "stream",
     "text": [
      "epoch: 1, train_loss 1.5434294939041138, train_Accuracy 0.9182833433151245\n",
      "epoch: 1, val_loss 1.4916763305664062, val_Accuracy 0.9695666432380676\n",
      "\n",
      "epoch: 2, train_loss 1.4958425760269165, train_Accuracy 0.965233325958252\n",
      "epoch: 2, val_loss 1.4884212017059326, val_Accuracy 0.9727166891098022\n",
      "\n",
      "epoch: 3, train_loss 1.4973558187484741, train_Accuracy 0.9637166857719421\n",
      "epoch: 3, val_loss 1.4936903715133667, val_Accuracy 0.9674500226974487\n",
      "\n",
      "epoch: 4, train_loss 1.5008139610290527, train_Accuracy 0.9602500200271606\n",
      "epoch: 4, val_loss 1.4890512228012085, val_Accuracy 0.972100019454956\n",
      "\n",
      "epoch: 5, train_loss 1.4874321222305298, train_Accuracy 0.973716676235199\n",
      "epoch: 5, val_loss 1.4860495328903198, val_Accuracy 0.9750833511352539\n",
      "\n",
      "epoch: 6, train_loss 1.4947361946105957, train_Accuracy 0.9663666486740112\n",
      "epoch: 6, val_loss 1.5051151514053345, val_Accuracy 0.9559000134468079\n",
      "\n",
      "epoch: 7, train_loss 1.501978874206543, train_Accuracy 0.9590833187103271\n",
      "epoch: 7, val_loss 1.5036184787750244, val_Accuracy 0.9575166702270508\n",
      "\n",
      "epoch: 8, train_loss 1.503495454788208, train_Accuracy 0.9576166868209839\n",
      "epoch: 8, val_loss 1.4930472373962402, val_Accuracy 0.9680833220481873\n",
      "\n",
      "epoch: 9, train_loss 1.5002899169921875, train_Accuracy 0.9608333110809326\n",
      "epoch: 9, val_loss 1.4897407293319702, val_Accuracy 0.9714000225067139\n",
      "\n",
      "epoch: 10, train_loss 1.4961364269256592, train_Accuracy 0.9650166630744934\n",
      "epoch: 10, val_loss 1.5181525945663452, val_Accuracy 0.9430666565895081\n",
      "\n"
     ]
    }
   ],
   "source": [
    "# train and validation loop\n",
    "val_acc = []\n",
    "train_acc = []\n",
    "v_losses = []\n",
    "t_losses = []\n",
    "epochs = 10\n",
    "batch_size = 64\n",
    "for epoch in range(epochs):\n",
    "    for image,labels in dataset.batch(batch_size):\n",
    "        train_step(image,labels)\n",
    "        train_acc.append(train_accuracy.result())\n",
    "        t_losses.append(train_loss.result())\n",
    "    print('epoch: {}, train_loss {}, train_Accuracy {}'.format(epoch+1,train_loss.result(),train_accuracy.result()))\n",
    "    for image,labels in dataset.batch(batch_size):\n",
    "        valiation_step(image,labels)\n",
    "        val_acc.append(train_accuracy.result())\n",
    "        v_losses.append(train_loss.result())\n",
    "    print('epoch: {}, val_loss {}, val_Accuracy {}\\n'.format(epoch+1,val_loss.result(),val_accuracy.result()))\n",
    "    val_loss.reset_states()\n",
    "    val_accuracy.reset_states()\n",
    "    train_loss.reset_states()\n",
    "    train_accuracy.reset_states()"
   ]
  },
  {
   "cell_type": "code",
   "execution_count": 13,
   "metadata": {},
   "outputs": [
    {
     "data": {
      "image/png": "[encoded data removed]",
      "text/plain": [
       "<Figure size 576x576 with 1 Axes>"
      ]
     },
     "metadata": {
      "needs_background": "light"
     },
     "output_type": "display_data"
    }
   ],
   "source": [
    "plt.figure(figsize=(8,8))\n",
    "ax = plt.subplot()\n",
    "plt.plot(range(len(val_acc)),val_acc,'g-',label='val_acc',linewidth=3.5)\n",
    "plt.plot(range(len(train_acc)),train_acc,'r-',label='val_acc')\n",
    "plt.plot(range(len(v_losses)),v_losses,'g--',label='val_loss',linewidth=3.5)\n",
    "plt.plot(range(len(t_losses)),t_losses,'r--',label='train_loss')\n",
    "plt.legend()\n",
    "plt.grid()\n",
    "plt.show()"
   ]
  },
  {
   "cell_type": "code",
   "execution_count": null,
   "metadata": {},
   "outputs": [],
   "source": []
  }
 ],
 "metadata": {
  "kernelspec": {
   "display_name": "Python 3",
   "language": "python",
   "name": "python3"
  },
  "language_info": {
   "codemirror_mode": {
    "name": "ipython",
    "version": 3
   },
   "file_extension": ".py",
   "mimetype": "text/x-python",
   "name": "python",
   "nbconvert_exporter": "python",
   "pygments_lexer": "ipython3",
   "version": "3.7.6"
  }
 },
 "nbformat": 4,
 "nbformat_minor": 4
}
